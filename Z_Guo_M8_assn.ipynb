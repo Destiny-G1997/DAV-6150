{
 "cells": [
  {
   "cell_type": "markdown",
   "metadata": {},
   "source": [
    "# Logistic Regression"
   ]
  },
  {
   "cell_type": "markdown",
   "metadata": {},
   "source": [
    "**Group members: Yifeng Lin(Yifeng will finish assignments individually before final project), Yuan Zheng and Ziyang Guo**"
   ]
  },
  {
   "cell_type": "markdown",
   "metadata": {},
   "source": [
    "## Introduction:  \n",
    "The insurance industry always wants to broaden its relationships with existing customers. In this assignment, we will help the insurance company to use the output of such a logistic regression model in an attempt to improve its customer retention and sales practices base on the dataset we have. The dataset is comprised of more than 14,000 observations of 1 response variable and 14 explanatory variables."
   ]
  },
  {
   "cell_type": "markdown",
   "metadata": {},
   "source": [
    "## Data Summary:  \n",
    "    1.ID            Unique customer identifier  \n",
    "    2.TRAGET        Indicator of buying the new product (0 = no, 1= yes)  \n",
    "    3.Loyalty       Loyalty level, from low to high (0 to 3), 99 = unclassified\n",
    "    4.Age           Age in years\n",
    "    5.City          Unique code per city\n",
    "    6.Age_p         Age of partner in years  \n",
    "    7.LOR           Length of relationship in years  \n",
    "    8.LOR_m         Length of relationship in months\n",
    "    9.Prod_A        Bought Product A (0=no, 1=yes)  \n",
    "    10.Type_A       Type of product A  \n",
    "    11.Turnover_A   Amount of money spent on Product A  \n",
    "    12.Prod_B       Bought Product B (0=no, 1=yes)  \n",
    "    13.Type_B       Type of product B  \n",
    "    14.Turnover_B   Amount of money spent on Product B  \n",
    "    15.Contract     Type of contract"
   ]
  },
  {
   "cell_type": "code",
   "execution_count": 120,
   "metadata": {},
   "outputs": [],
   "source": [
    "# load the pandas & numpy libraries and matplotlib and seaborn\n",
    "import pandas as pd\n",
    "import numpy as np\n",
    "import matplotlib.pyplot as plt\n",
    "import seaborn as sns\n"
   ]
  },
  {
   "cell_type": "code",
   "execution_count": 121,
   "metadata": {},
   "outputs": [
    {
     "data": {
      "text/html": [
       "<div>\n",
       "<style scoped>\n",
       "    .dataframe tbody tr th:only-of-type {\n",
       "        vertical-align: middle;\n",
       "    }\n",
       "\n",
       "    .dataframe tbody tr th {\n",
       "        vertical-align: top;\n",
       "    }\n",
       "\n",
       "    .dataframe thead th {\n",
       "        text-align: right;\n",
       "    }\n",
       "</style>\n",
       "<table border=\"1\" class=\"dataframe\">\n",
       "  <thead>\n",
       "    <tr style=\"text-align: right;\">\n",
       "      <th></th>\n",
       "      <th>TARGET</th>\n",
       "      <th>loyalty</th>\n",
       "      <th>ID</th>\n",
       "      <th>age</th>\n",
       "      <th>city</th>\n",
       "      <th>LOR</th>\n",
       "      <th>prod_A</th>\n",
       "      <th>type_A</th>\n",
       "      <th>type_B</th>\n",
       "      <th>prod_B</th>\n",
       "      <th>turnover_A</th>\n",
       "      <th>turnover_B</th>\n",
       "      <th>contract</th>\n",
       "      <th>age_P</th>\n",
       "      <th>lor_M</th>\n",
       "    </tr>\n",
       "  </thead>\n",
       "  <tbody>\n",
       "    <tr>\n",
       "      <th>0</th>\n",
       "      <td>Y</td>\n",
       "      <td>99</td>\n",
       "      <td>77</td>\n",
       "      <td>66</td>\n",
       "      <td>2</td>\n",
       "      <td>0</td>\n",
       "      <td>0</td>\n",
       "      <td>0</td>\n",
       "      <td>0</td>\n",
       "      <td>0</td>\n",
       "      <td>333.561114</td>\n",
       "      <td>264.721010</td>\n",
       "      <td>2</td>\n",
       "      <td>66</td>\n",
       "      <td>3</td>\n",
       "    </tr>\n",
       "    <tr>\n",
       "      <th>1</th>\n",
       "      <td>Y</td>\n",
       "      <td>1</td>\n",
       "      <td>159</td>\n",
       "      <td>45</td>\n",
       "      <td>2</td>\n",
       "      <td>3</td>\n",
       "      <td>1</td>\n",
       "      <td>3</td>\n",
       "      <td>3</td>\n",
       "      <td>1</td>\n",
       "      <td>394.735699</td>\n",
       "      <td>284.904978</td>\n",
       "      <td>2</td>\n",
       "      <td>45</td>\n",
       "      <td>39</td>\n",
       "    </tr>\n",
       "    <tr>\n",
       "      <th>2</th>\n",
       "      <td>Y</td>\n",
       "      <td>1</td>\n",
       "      <td>220</td>\n",
       "      <td>42</td>\n",
       "      <td>2</td>\n",
       "      <td>2</td>\n",
       "      <td>1</td>\n",
       "      <td>3</td>\n",
       "      <td>6</td>\n",
       "      <td>1</td>\n",
       "      <td>342.180990</td>\n",
       "      <td>1175.589721</td>\n",
       "      <td>2</td>\n",
       "      <td>42</td>\n",
       "      <td>27</td>\n",
       "    </tr>\n",
       "    <tr>\n",
       "      <th>3</th>\n",
       "      <td>Y</td>\n",
       "      <td>99</td>\n",
       "      <td>303</td>\n",
       "      <td>31</td>\n",
       "      <td>2</td>\n",
       "      <td>0</td>\n",
       "      <td>0</td>\n",
       "      <td>0</td>\n",
       "      <td>0</td>\n",
       "      <td>0</td>\n",
       "      <td>453.757916</td>\n",
       "      <td>242.341754</td>\n",
       "      <td>2</td>\n",
       "      <td>31</td>\n",
       "      <td>3</td>\n",
       "    </tr>\n",
       "    <tr>\n",
       "      <th>4</th>\n",
       "      <td>Y</td>\n",
       "      <td>99</td>\n",
       "      <td>306</td>\n",
       "      <td>62</td>\n",
       "      <td>2</td>\n",
       "      <td>0</td>\n",
       "      <td>0</td>\n",
       "      <td>0</td>\n",
       "      <td>0</td>\n",
       "      <td>0</td>\n",
       "      <td>384.577469</td>\n",
       "      <td>287.008370</td>\n",
       "      <td>2</td>\n",
       "      <td>62</td>\n",
       "      <td>3</td>\n",
       "    </tr>\n",
       "  </tbody>\n",
       "</table>\n",
       "</div>"
      ],
      "text/plain": [
       "  TARGET  loyalty   ID  age  city  LOR  prod_A  type_A  type_B  prod_B  \\\n",
       "0      Y       99   77   66     2    0       0       0       0       0   \n",
       "1      Y        1  159   45     2    3       1       3       3       1   \n",
       "2      Y        1  220   42     2    2       1       3       6       1   \n",
       "3      Y       99  303   31     2    0       0       0       0       0   \n",
       "4      Y       99  306   62     2    0       0       0       0       0   \n",
       "\n",
       "   turnover_A   turnover_B  contract  age_P  lor_M  \n",
       "0  333.561114   264.721010         2     66      3  \n",
       "1  394.735699   284.904978         2     45     39  \n",
       "2  342.180990  1175.589721         2     42     27  \n",
       "3  453.757916   242.341754         2     31      3  \n",
       "4  384.577469   287.008370         2     62      3  "
      ]
     },
     "execution_count": 121,
     "metadata": {},
     "output_type": "execute_result"
    }
   ],
   "source": [
    "data = pd.read_csv('https://raw.githubusercontent.com/Destiny-G1997/DAV-6150/main/M7_Data.csv')\n",
    "data.head()"
   ]
  },
  {
   "cell_type": "markdown",
   "metadata": {},
   "source": [
    "## Exploratory Data Analysis"
   ]
  },
  {
   "cell_type": "code",
   "execution_count": 122,
   "metadata": {},
   "outputs": [
    {
     "data": {
      "text/plain": [
       "(14016, 15)"
      ]
     },
     "execution_count": 122,
     "metadata": {},
     "output_type": "execute_result"
    }
   ],
   "source": [
    "data.shape"
   ]
  },
  {
   "cell_type": "code",
   "execution_count": 123,
   "metadata": {},
   "outputs": [
    {
     "data": {
      "text/plain": [
       "TARGET         object\n",
       "loyalty         int64\n",
       "ID              int64\n",
       "age             int64\n",
       "city            int64\n",
       "LOR             int64\n",
       "prod_A          int64\n",
       "type_A          int64\n",
       "type_B          int64\n",
       "prod_B          int64\n",
       "turnover_A    float64\n",
       "turnover_B    float64\n",
       "contract        int64\n",
       "age_P           int64\n",
       "lor_M           int64\n",
       "dtype: object"
      ]
     },
     "execution_count": 123,
     "metadata": {},
     "output_type": "execute_result"
    }
   ],
   "source": [
    "data.dtypes"
   ]
  },
  {
   "cell_type": "code",
   "execution_count": 124,
   "metadata": {},
   "outputs": [],
   "source": [
    "# replace Y to 1 and replace N to 0\n",
    "data['TARGET'] = data['TARGET'].replace(\"Y\",1)\n",
    "data['TARGET'] = data['TARGET'].replace(\"N\",0)"
   ]
  },
  {
   "cell_type": "code",
   "execution_count": 125,
   "metadata": {},
   "outputs": [
    {
     "data": {
      "text/plain": [
       "TARGET          int64\n",
       "loyalty         int64\n",
       "ID              int64\n",
       "age             int64\n",
       "city            int64\n",
       "LOR             int64\n",
       "prod_A          int64\n",
       "type_A          int64\n",
       "type_B          int64\n",
       "prod_B          int64\n",
       "turnover_A    float64\n",
       "turnover_B    float64\n",
       "contract        int64\n",
       "age_P           int64\n",
       "lor_M           int64\n",
       "dtype: object"
      ]
     },
     "execution_count": 125,
     "metadata": {},
     "output_type": "execute_result"
    }
   ],
   "source": [
    "data.dtypes"
   ]
  },
  {
   "cell_type": "code",
   "execution_count": 126,
   "metadata": {},
   "outputs": [
    {
     "data": {
      "text/html": [
       "<div>\n",
       "<style scoped>\n",
       "    .dataframe tbody tr th:only-of-type {\n",
       "        vertical-align: middle;\n",
       "    }\n",
       "\n",
       "    .dataframe tbody tr th {\n",
       "        vertical-align: top;\n",
       "    }\n",
       "\n",
       "    .dataframe thead th {\n",
       "        text-align: right;\n",
       "    }\n",
       "</style>\n",
       "<table border=\"1\" class=\"dataframe\">\n",
       "  <thead>\n",
       "    <tr style=\"text-align: right;\">\n",
       "      <th></th>\n",
       "      <th>loyalty</th>\n",
       "      <th>ID</th>\n",
       "      <th>age</th>\n",
       "      <th>city</th>\n",
       "      <th>LOR</th>\n",
       "      <th>prod_A</th>\n",
       "      <th>type_A</th>\n",
       "      <th>type_B</th>\n",
       "      <th>prod_B</th>\n",
       "      <th>turnover_A</th>\n",
       "      <th>turnover_B</th>\n",
       "      <th>contract</th>\n",
       "      <th>age_P</th>\n",
       "      <th>lor_M</th>\n",
       "    </tr>\n",
       "    <tr>\n",
       "      <th>TARGET</th>\n",
       "      <th></th>\n",
       "      <th></th>\n",
       "      <th></th>\n",
       "      <th></th>\n",
       "      <th></th>\n",
       "      <th></th>\n",
       "      <th></th>\n",
       "      <th></th>\n",
       "      <th></th>\n",
       "      <th></th>\n",
       "      <th></th>\n",
       "      <th></th>\n",
       "      <th></th>\n",
       "      <th></th>\n",
       "    </tr>\n",
       "  </thead>\n",
       "  <tbody>\n",
       "    <tr>\n",
       "      <th>0</th>\n",
       "      <td>39.791625</td>\n",
       "      <td>8366.446750</td>\n",
       "      <td>33.027125</td>\n",
       "      <td>-747.257125</td>\n",
       "      <td>1.081375</td>\n",
       "      <td>0.673000</td>\n",
       "      <td>2.025000</td>\n",
       "      <td>2.411625</td>\n",
       "      <td>0.74475</td>\n",
       "      <td>360.368141</td>\n",
       "      <td>371.263176</td>\n",
       "      <td>2.0</td>\n",
       "      <td>33.027125</td>\n",
       "      <td>15.976500</td>\n",
       "    </tr>\n",
       "    <tr>\n",
       "      <th>1</th>\n",
       "      <td>64.464428</td>\n",
       "      <td>76643.175864</td>\n",
       "      <td>39.680519</td>\n",
       "      <td>-662.669548</td>\n",
       "      <td>0.720080</td>\n",
       "      <td>0.348737</td>\n",
       "      <td>1.053191</td>\n",
       "      <td>1.263630</td>\n",
       "      <td>0.40625</td>\n",
       "      <td>404.152250</td>\n",
       "      <td>271.932769</td>\n",
       "      <td>2.0</td>\n",
       "      <td>39.680519</td>\n",
       "      <td>11.640957</td>\n",
       "    </tr>\n",
       "  </tbody>\n",
       "</table>\n",
       "</div>"
      ],
      "text/plain": [
       "          loyalty            ID        age        city       LOR    prod_A  \\\n",
       "TARGET                                                                       \n",
       "0       39.791625   8366.446750  33.027125 -747.257125  1.081375  0.673000   \n",
       "1       64.464428  76643.175864  39.680519 -662.669548  0.720080  0.348737   \n",
       "\n",
       "          type_A    type_B   prod_B  turnover_A  turnover_B  contract  \\\n",
       "TARGET                                                                  \n",
       "0       2.025000  2.411625  0.74475  360.368141  371.263176       2.0   \n",
       "1       1.053191  1.263630  0.40625  404.152250  271.932769       2.0   \n",
       "\n",
       "            age_P      lor_M  \n",
       "TARGET                        \n",
       "0       33.027125  15.976500  \n",
       "1       39.680519  11.640957  "
      ]
     },
     "execution_count": 126,
     "metadata": {},
     "output_type": "execute_result"
    }
   ],
   "source": [
    "data.groupby('TARGET').mean()"
   ]
  },
  {
   "cell_type": "markdown",
   "metadata": {},
   "source": [
    "We can see that the people who are older will prefer to buy the new insurance product. As for the 'LOR' and 'lor_n', we can know that if you spent less time in this relationship, you might be more likely to buy the new product."
   ]
  },
  {
   "cell_type": "code",
   "execution_count": 127,
   "metadata": {},
   "outputs": [
    {
     "data": {
      "text/plain": [
       "TARGET        0\n",
       "loyalty       0\n",
       "ID            0\n",
       "age           0\n",
       "city          0\n",
       "LOR           0\n",
       "prod_A        0\n",
       "type_A        0\n",
       "type_B        0\n",
       "prod_B        0\n",
       "turnover_A    0\n",
       "turnover_B    0\n",
       "contract      0\n",
       "age_P         0\n",
       "lor_M         0\n",
       "dtype: int64"
      ]
     },
     "execution_count": 127,
     "metadata": {},
     "output_type": "execute_result"
    }
   ],
   "source": [
    "#check if there are none values.\n",
    "data.isnull().sum()"
   ]
  },
  {
   "cell_type": "markdown",
   "metadata": {},
   "source": [
    "We need to set up two groups to separate categorical data and numerical data"
   ]
  },
  {
   "cell_type": "code",
   "execution_count": 128,
   "metadata": {},
   "outputs": [],
   "source": [
    "data_num = data[['age','age_P','LOR','lor_M','turnover_A','turnover_B']]"
   ]
  },
  {
   "cell_type": "code",
   "execution_count": 129,
   "metadata": {},
   "outputs": [],
   "source": [
    "data_cat= data[['loyalty','city','prod_A','type_A','prod_B','type_B','TARGET']]"
   ]
  },
  {
   "cell_type": "code",
   "execution_count": 130,
   "metadata": {},
   "outputs": [],
   "source": [
    "# turn the name of columns into list\n",
    "column_num=data_num.columns.to_list()\n",
    "column_cat=data_cat.columns.to_list()"
   ]
  },
  {
   "cell_type": "code",
   "execution_count": 131,
   "metadata": {},
   "outputs": [
    {
     "name": "stderr",
     "output_type": "stream",
     "text": [
      "D:\\python\\lib\\site-packages\\seaborn\\_decorators.py:36: FutureWarning: Pass the following variable as a keyword arg: x. From version 0.12, the only valid positional argument will be `data`, and passing other arguments without an explicit keyword will result in an error or misinterpretation.\n",
      "  warnings.warn(\n",
      "D:\\python\\lib\\site-packages\\seaborn\\_decorators.py:36: FutureWarning: Pass the following variable as a keyword arg: x. From version 0.12, the only valid positional argument will be `data`, and passing other arguments without an explicit keyword will result in an error or misinterpretation.\n",
      "  warnings.warn(\n",
      "D:\\python\\lib\\site-packages\\seaborn\\_decorators.py:36: FutureWarning: Pass the following variable as a keyword arg: x. From version 0.12, the only valid positional argument will be `data`, and passing other arguments without an explicit keyword will result in an error or misinterpretation.\n",
      "  warnings.warn(\n",
      "D:\\python\\lib\\site-packages\\seaborn\\_decorators.py:36: FutureWarning: Pass the following variable as a keyword arg: x. From version 0.12, the only valid positional argument will be `data`, and passing other arguments without an explicit keyword will result in an error or misinterpretation.\n",
      "  warnings.warn(\n",
      "D:\\python\\lib\\site-packages\\seaborn\\_decorators.py:36: FutureWarning: Pass the following variable as a keyword arg: x. From version 0.12, the only valid positional argument will be `data`, and passing other arguments without an explicit keyword will result in an error or misinterpretation.\n",
      "  warnings.warn(\n",
      "D:\\python\\lib\\site-packages\\seaborn\\_decorators.py:36: FutureWarning: Pass the following variable as a keyword arg: x. From version 0.12, the only valid positional argument will be `data`, and passing other arguments without an explicit keyword will result in an error or misinterpretation.\n",
      "  warnings.warn(\n"
     ]
    },
    {
     "data": {
      "image/png": "[encoded data removed]",
      "text/plain": [
       "<Figure size 1080x1440 with 12 Axes>"
      ]
     },
     "metadata": {
      "needs_background": "light"
     },
     "output_type": "display_data"
    }
   ],
   "source": [
    "#show histogram and boxplot of each attribute in the numerical dataset\n",
    "fig=plt.figure(figsize=(15,20))\n",
    "for i in range(6):\n",
    "    n=2*i\n",
    "    plt.subplot(12,4,n+1)\n",
    "    sns.boxplot(data_num[column_num[i]])\n",
    "    plt.subplot(12,4,n+2)\n",
    "    plt.hist(data_num[column_num[i]])\n",
    "    \n",
    "plt.tight_layout()"
   ]
  },
  {
   "cell_type": "markdown",
   "metadata": {},
   "source": [
    "According to the above charts, we can see the 'turnover_A' and 'turnover_B' have a lot of outliers, so we need to do the box-cox to normalize them. The age,age_P are Right-skewed Distribution observed, they all have right outliers."
   ]
  },
  {
   "cell_type": "code",
   "execution_count": 132,
   "metadata": {},
   "outputs": [
    {
     "data": {
      "image/png": "[encoded data removed]",
      "text/plain": [
       "<Figure size 1080x1080 with 7 Axes>"
      ]
     },
     "metadata": {
      "needs_background": "light"
     },
     "output_type": "display_data"
    }
   ],
   "source": [
    "# show barplot of each attribute in the categorical dataset\n",
    "fig=plt.figure(figsize=(15,15))\n",
    "for i in range(len(column_cat)):\n",
    "    plt.subplot(3,4,i+1)\n",
    "    data_cat[column_cat[i]].value_counts().plot.bar(title = \"Freq Dist\")\n",
    "    plt.xlabel(column_cat[i])\n",
    "plt.tight_layout()"
   ]
  },
  {
   "cell_type": "markdown",
   "metadata": {},
   "source": [
    "- In the chart of 'loyalty', the '99' appears mostly followed by '3', '1', and '2', '0' appears the lowest number of times.\n",
    "- In the prod_A, there are nearly 7500 people who have bought product A and there are about 6500 people who have not.\n",
    "- In the type_A, there are nearly 7470 people have bought the type '3', and only 30 people bought the type '6'.\n",
    "- In the prod_B, there are nearly 8400 people have bought product B and there are about 5600 people who have not.\n",
    "- In the type_B, type 3 appears the most number, and type 9 appears the least number.\n",
    "- In the TARGET, we find that there are nearly 6000 people have bought the new product and other 8000 have not.\n",
    "- In the city, most cities gathered at the '2'.\n"
   ]
  },
  {
   "cell_type": "code",
   "execution_count": 133,
   "metadata": {
    "scrolled": false
   },
   "outputs": [
    {
     "data": {
      "image/png": "[encoded data removed]",
      "text/plain": [
       "<Figure size 360x360 with 1 Axes>"
      ]
     },
     "metadata": {
      "needs_background": "light"
     },
     "output_type": "display_data"
    },
    {
     "data": {
      "image/png": "[encoded data removed]",
      "text/plain": [
       "<Figure size 360x360 with 1 Axes>"
      ]
     },
     "metadata": {
      "needs_background": "light"
     },
     "output_type": "display_data"
    },
    {
     "data": {
      "image/png": "[encoded data removed]",
      "text/plain": [
       "<Figure size 360x360 with 1 Axes>"
      ]
     },
     "metadata": {
      "needs_background": "light"
     },
     "output_type": "display_data"
    },
    {
     "data": {
      "image/png": "[encoded data removed]",
      "text/plain": [
       "<Figure size 360x360 with 1 Axes>"
      ]
     },
     "metadata": {
      "needs_background": "light"
     },
     "output_type": "display_data"
    },
    {
     "data": {
      "image/png": "[encoded data removed]",
      "text/plain": [
       "<Figure size 360x360 with 1 Axes>"
      ]
     },
     "metadata": {
      "needs_background": "light"
     },
     "output_type": "display_data"
    },
    {
     "data": {
      "image/png": "[encoded data removed]",
      "text/plain": [
       "<Figure size 360x360 with 1 Axes>"
      ]
     },
     "metadata": {
      "needs_background": "light"
     },
     "output_type": "display_data"
    }
   ],
   "source": [
    "#show the catplot between numercial attributes and response variable\n",
    "%matplotlib inline\n",
    "for i in range(len(column_num)):  \n",
    "    ax=sns.catplot(x=\"TARGET\",y=column_num[i],jitter=False, data=data)\n",
    "    plt.title(column_num[i])\n",
    "    plt.show()"
   ]
  },
  {
   "cell_type": "markdown",
   "metadata": {},
   "source": [
    "According to the above catplot, we can see the relationship between numerical attributes and response variable can be:\n",
    "-  In the 'age' and 'age_P' table we can see some teenagers under 20 years old will not buy a new insurance product.\n",
    "-  In 'Lor' and 'lor_m' we can see there are some people who are not willing to buy products for long time.\n",
    "-  Comparing 'turnover_A' and 'turnover_B', we can see that the people who have spent more money on product B will not be willing to buy new product"
   ]
  },
  {
   "cell_type": "code",
   "execution_count": 134,
   "metadata": {},
   "outputs": [
    {
     "data": {
      "image/png": "[encoded data removed]",
      "text/plain": [
       "<Figure size 504x576 with 1 Axes>"
      ]
     },
     "metadata": {
      "needs_background": "light"
     },
     "output_type": "display_data"
    },
    {
     "data": {
      "image/png": "[encoded data removed]",
      "text/plain": [
       "<Figure size 504x576 with 1 Axes>"
      ]
     },
     "metadata": {
      "needs_background": "light"
     },
     "output_type": "display_data"
    },
    {
     "data": {
      "image/png": "[encoded data removed]",
      "text/plain": [
       "<Figure size 504x576 with 1 Axes>"
      ]
     },
     "metadata": {
      "needs_background": "light"
     },
     "output_type": "display_data"
    },
    {
     "data": {
      "image/png": "[encoded data removed]",
      "text/plain": [
       "<Figure size 504x576 with 1 Axes>"
      ]
     },
     "metadata": {
      "needs_background": "light"
     },
     "output_type": "display_data"
    },
    {
     "data": {
      "image/png": "[encoded data removed]",
      "text/plain": [
       "<Figure size 504x576 with 1 Axes>"
      ]
     },
     "metadata": {
      "needs_background": "light"
     },
     "output_type": "display_data"
    },
    {
     "data": {
      "image/png": "[encoded data removed]",
      "text/plain": [
       "<Figure size 504x576 with 1 Axes>"
      ]
     },
     "metadata": {
      "needs_background": "light"
     },
     "output_type": "display_data"
    },
    {
     "data": {
      "image/png": "[encoded data removed]",
      "text/plain": [
       "<Figure size 504x576 with 1 Axes>"
      ]
     },
     "metadata": {
      "needs_background": "light"
     },
     "output_type": "display_data"
    }
   ],
   "source": [
    "#show the countplot between categorical attributes and response variable\n",
    "for col in column_cat:\n",
    "    plt.figure(figsize=(7,8))\n",
    "    sns.countplot(x=col,hue='TARGET',data=data_cat)\n",
    "    "
   ]
  },
  {
   "cell_type": "markdown",
   "metadata": {},
   "source": [
    "According to the above countplot, we may get the below conclusion:\n",
    "- In the loyalty table, we find that most people's level is unclassified and they are willing to buy the new product, there are more customers with loyalty levels from 1 to 3 who are not willing to buy the new product.\n",
    "- In the city table, we find that most people gathered at city2 and there are more people who don't want to buy the new product.\n",
    "- In the prod_A table, we find that people who didn't buy product A will prefer to buy the new product. As for the people who have bought product A show less interest in the new product.\n",
    "- In the prod_B table, we find that people who didn't buy product B will prefer to buy the new product. As for the people who have bought product B show less interest in the new product.\n",
    "- In the type_A and type_B table we find that people who have chosen type 0 will prefer to buy the new product. As for the people who have bought type3 show less interest in the new product."
   ]
  },
  {
   "cell_type": "code",
   "execution_count": 135,
   "metadata": {},
   "outputs": [
    {
     "data": {
      "text/html": [
       "<div>\n",
       "<style scoped>\n",
       "    .dataframe tbody tr th:only-of-type {\n",
       "        vertical-align: middle;\n",
       "    }\n",
       "\n",
       "    .dataframe tbody tr th {\n",
       "        vertical-align: top;\n",
       "    }\n",
       "\n",
       "    .dataframe thead th {\n",
       "        text-align: right;\n",
       "    }\n",
       "</style>\n",
       "<table border=\"1\" class=\"dataframe\">\n",
       "  <thead>\n",
       "    <tr style=\"text-align: right;\">\n",
       "      <th></th>\n",
       "      <th>age</th>\n",
       "      <th>age_P</th>\n",
       "      <th>LOR</th>\n",
       "      <th>lor_M</th>\n",
       "      <th>turnover_A</th>\n",
       "      <th>turnover_B</th>\n",
       "    </tr>\n",
       "  </thead>\n",
       "  <tbody>\n",
       "    <tr>\n",
       "      <th>age</th>\n",
       "      <td>1.000000</td>\n",
       "      <td>1.000000</td>\n",
       "      <td>0.089640</td>\n",
       "      <td>0.089640</td>\n",
       "      <td>0.135887</td>\n",
       "      <td>0.251625</td>\n",
       "    </tr>\n",
       "    <tr>\n",
       "      <th>age_P</th>\n",
       "      <td>1.000000</td>\n",
       "      <td>1.000000</td>\n",
       "      <td>0.089640</td>\n",
       "      <td>0.089640</td>\n",
       "      <td>0.135887</td>\n",
       "      <td>0.251625</td>\n",
       "    </tr>\n",
       "    <tr>\n",
       "      <th>LOR</th>\n",
       "      <td>0.089640</td>\n",
       "      <td>0.089640</td>\n",
       "      <td>1.000000</td>\n",
       "      <td>1.000000</td>\n",
       "      <td>0.009987</td>\n",
       "      <td>0.158571</td>\n",
       "    </tr>\n",
       "    <tr>\n",
       "      <th>lor_M</th>\n",
       "      <td>0.089640</td>\n",
       "      <td>0.089640</td>\n",
       "      <td>1.000000</td>\n",
       "      <td>1.000000</td>\n",
       "      <td>0.009987</td>\n",
       "      <td>0.158571</td>\n",
       "    </tr>\n",
       "    <tr>\n",
       "      <th>turnover_A</th>\n",
       "      <td>0.135887</td>\n",
       "      <td>0.135887</td>\n",
       "      <td>0.009987</td>\n",
       "      <td>0.009987</td>\n",
       "      <td>1.000000</td>\n",
       "      <td>0.128613</td>\n",
       "    </tr>\n",
       "    <tr>\n",
       "      <th>turnover_B</th>\n",
       "      <td>0.251625</td>\n",
       "      <td>0.251625</td>\n",
       "      <td>0.158571</td>\n",
       "      <td>0.158571</td>\n",
       "      <td>0.128613</td>\n",
       "      <td>1.000000</td>\n",
       "    </tr>\n",
       "  </tbody>\n",
       "</table>\n",
       "</div>"
      ],
      "text/plain": [
       "                 age     age_P       LOR     lor_M  turnover_A  turnover_B\n",
       "age         1.000000  1.000000  0.089640  0.089640    0.135887    0.251625\n",
       "age_P       1.000000  1.000000  0.089640  0.089640    0.135887    0.251625\n",
       "LOR         0.089640  0.089640  1.000000  1.000000    0.009987    0.158571\n",
       "lor_M       0.089640  0.089640  1.000000  1.000000    0.009987    0.158571\n",
       "turnover_A  0.135887  0.135887  0.009987  0.009987    1.000000    0.128613\n",
       "turnover_B  0.251625  0.251625  0.158571  0.158571    0.128613    1.000000"
      ]
     },
     "execution_count": 135,
     "metadata": {},
     "output_type": "execute_result"
    }
   ],
   "source": [
    "data_num.corr()"
   ]
  },
  {
   "cell_type": "markdown",
   "metadata": {},
   "source": [
    "According to the pearson's correlation matrix, we found the age and age_P, LOR and lor_M are highly correlated,"
   ]
  },
  {
   "cell_type": "markdown",
   "metadata": {},
   "source": [
    "## Data Preparation"
   ]
  },
  {
   "cell_type": "markdown",
   "metadata": {},
   "source": [
    "For data preparation, we transfer the 'TARGET' to dummy variable. And we will apply box cox function to finish normalization for 'turnover A' and 'turnover B'. If there are any missing values, we will apply KNN the fill missing values. According to the correlation result, we can see that the 'age' and 'age_P', and 'LOR' and 'lor_M' have very high correlation. So we dropped 'lor_M' and 'age_P' to reduce dimensions."
   ]
  },
  {
   "cell_type": "code",
   "execution_count": 136,
   "metadata": {},
   "outputs": [
    {
     "data": {
      "text/plain": [
       "0        False\n",
       "1        False\n",
       "2        False\n",
       "3        False\n",
       "4        False\n",
       "         ...  \n",
       "14011     True\n",
       "14012     True\n",
       "14013     True\n",
       "14014     True\n",
       "14015     True\n",
       "Length: 14016, dtype: bool"
      ]
     },
     "execution_count": 136,
     "metadata": {},
     "output_type": "execute_result"
    }
   ],
   "source": [
    "data.duplicated(keep='first')"
   ]
  },
  {
   "cell_type": "code",
   "execution_count": 137,
   "metadata": {},
   "outputs": [],
   "source": [
    "data1= data.drop_duplicates(keep='first',inplace=False)"
   ]
  },
  {
   "cell_type": "code",
   "execution_count": 138,
   "metadata": {},
   "outputs": [
    {
     "data": {
      "text/plain": [
       "(11008, 15)"
      ]
     },
     "execution_count": 138,
     "metadata": {},
     "output_type": "execute_result"
    }
   ],
   "source": [
    "data1.shape"
   ]
  },
  {
   "cell_type": "code",
   "execution_count": 139,
   "metadata": {},
   "outputs": [
    {
     "data": {
      "text/html": [
       "<div>\n",
       "<style scoped>\n",
       "    .dataframe tbody tr th:only-of-type {\n",
       "        vertical-align: middle;\n",
       "    }\n",
       "\n",
       "    .dataframe tbody tr th {\n",
       "        vertical-align: top;\n",
       "    }\n",
       "\n",
       "    .dataframe thead th {\n",
       "        text-align: right;\n",
       "    }\n",
       "</style>\n",
       "<table border=\"1\" class=\"dataframe\">\n",
       "  <thead>\n",
       "    <tr style=\"text-align: right;\">\n",
       "      <th></th>\n",
       "      <th>TARGET</th>\n",
       "      <th>loyalty</th>\n",
       "      <th>ID</th>\n",
       "      <th>age</th>\n",
       "      <th>city</th>\n",
       "      <th>LOR</th>\n",
       "      <th>prod_A</th>\n",
       "      <th>type_A</th>\n",
       "      <th>type_B</th>\n",
       "      <th>prod_B</th>\n",
       "      <th>turnover_A</th>\n",
       "      <th>turnover_B</th>\n",
       "      <th>contract</th>\n",
       "    </tr>\n",
       "  </thead>\n",
       "  <tbody>\n",
       "    <tr>\n",
       "      <th>count</th>\n",
       "      <td>11008.000000</td>\n",
       "      <td>11008.000000</td>\n",
       "      <td>11008.000000</td>\n",
       "      <td>11008.000000</td>\n",
       "      <td>11008.000000</td>\n",
       "      <td>11008.000000</td>\n",
       "      <td>11008.000000</td>\n",
       "      <td>11008.000000</td>\n",
       "      <td>11008.000000</td>\n",
       "      <td>11008.000000</td>\n",
       "      <td>11008.000000</td>\n",
       "      <td>11008.000000</td>\n",
       "      <td>11008.0</td>\n",
       "    </tr>\n",
       "    <tr>\n",
       "      <th>mean</th>\n",
       "      <td>0.273256</td>\n",
       "      <td>46.533612</td>\n",
       "      <td>27023.459938</td>\n",
       "      <td>34.845203</td>\n",
       "      <td>-724.143078</td>\n",
       "      <td>0.982649</td>\n",
       "      <td>0.584393</td>\n",
       "      <td>1.759448</td>\n",
       "      <td>2.097929</td>\n",
       "      <td>0.652253</td>\n",
       "      <td>372.332403</td>\n",
       "      <td>344.120565</td>\n",
       "      <td>2.0</td>\n",
       "    </tr>\n",
       "    <tr>\n",
       "      <th>std</th>\n",
       "      <td>0.445651</td>\n",
       "      <td>48.292402</td>\n",
       "      <td>38576.841141</td>\n",
       "      <td>13.032781</td>\n",
       "      <td>26949.664365</td>\n",
       "      <td>0.939415</td>\n",
       "      <td>0.492849</td>\n",
       "      <td>1.490133</td>\n",
       "      <td>1.671441</td>\n",
       "      <td>0.476277</td>\n",
       "      <td>96.685932</td>\n",
       "      <td>524.372413</td>\n",
       "      <td>0.0</td>\n",
       "    </tr>\n",
       "    <tr>\n",
       "      <th>min</th>\n",
       "      <td>0.000000</td>\n",
       "      <td>0.000000</td>\n",
       "      <td>1.000000</td>\n",
       "      <td>5.000000</td>\n",
       "      <td>-999999.000000</td>\n",
       "      <td>0.000000</td>\n",
       "      <td>0.000000</td>\n",
       "      <td>0.000000</td>\n",
       "      <td>0.000000</td>\n",
       "      <td>0.000000</td>\n",
       "      <td>300.095909</td>\n",
       "      <td>191.962852</td>\n",
       "      <td>2.0</td>\n",
       "    </tr>\n",
       "    <tr>\n",
       "      <th>25%</th>\n",
       "      <td>0.000000</td>\n",
       "      <td>2.000000</td>\n",
       "      <td>5480.000000</td>\n",
       "      <td>24.000000</td>\n",
       "      <td>2.000000</td>\n",
       "      <td>0.000000</td>\n",
       "      <td>0.000000</td>\n",
       "      <td>0.000000</td>\n",
       "      <td>0.000000</td>\n",
       "      <td>0.000000</td>\n",
       "      <td>332.229899</td>\n",
       "      <td>218.302029</td>\n",
       "      <td>2.0</td>\n",
       "    </tr>\n",
       "    <tr>\n",
       "      <th>50%</th>\n",
       "      <td>0.000000</td>\n",
       "      <td>3.000000</td>\n",
       "      <td>11025.500000</td>\n",
       "      <td>31.000000</td>\n",
       "      <td>2.000000</td>\n",
       "      <td>1.000000</td>\n",
       "      <td>1.000000</td>\n",
       "      <td>3.000000</td>\n",
       "      <td>3.000000</td>\n",
       "      <td>1.000000</td>\n",
       "      <td>361.930298</td>\n",
       "      <td>235.025216</td>\n",
       "      <td>2.0</td>\n",
       "    </tr>\n",
       "    <tr>\n",
       "      <th>75%</th>\n",
       "      <td>1.000000</td>\n",
       "      <td>99.000000</td>\n",
       "      <td>16632.250000</td>\n",
       "      <td>42.000000</td>\n",
       "      <td>2.000000</td>\n",
       "      <td>1.000000</td>\n",
       "      <td>1.000000</td>\n",
       "      <td>3.000000</td>\n",
       "      <td>3.000000</td>\n",
       "      <td>1.000000</td>\n",
       "      <td>391.567662</td>\n",
       "      <td>253.759401</td>\n",
       "      <td>2.0</td>\n",
       "    </tr>\n",
       "    <tr>\n",
       "      <th>max</th>\n",
       "      <td>1.000000</td>\n",
       "      <td>99.000000</td>\n",
       "      <td>151811.000000</td>\n",
       "      <td>102.000000</td>\n",
       "      <td>235.000000</td>\n",
       "      <td>6.000000</td>\n",
       "      <td>1.000000</td>\n",
       "      <td>6.000000</td>\n",
       "      <td>9.000000</td>\n",
       "      <td>1.000000</td>\n",
       "      <td>5568.784139</td>\n",
       "      <td>12249.084770</td>\n",
       "      <td>2.0</td>\n",
       "    </tr>\n",
       "  </tbody>\n",
       "</table>\n",
       "</div>"
      ],
      "text/plain": [
       "             TARGET       loyalty             ID           age           city  \\\n",
       "count  11008.000000  11008.000000   11008.000000  11008.000000   11008.000000   \n",
       "mean       0.273256     46.533612   27023.459938     34.845203    -724.143078   \n",
       "std        0.445651     48.292402   38576.841141     13.032781   26949.664365   \n",
       "min        0.000000      0.000000       1.000000      5.000000 -999999.000000   \n",
       "25%        0.000000      2.000000    5480.000000     24.000000       2.000000   \n",
       "50%        0.000000      3.000000   11025.500000     31.000000       2.000000   \n",
       "75%        1.000000     99.000000   16632.250000     42.000000       2.000000   \n",
       "max        1.000000     99.000000  151811.000000    102.000000     235.000000   \n",
       "\n",
       "                LOR        prod_A        type_A        type_B        prod_B  \\\n",
       "count  11008.000000  11008.000000  11008.000000  11008.000000  11008.000000   \n",
       "mean       0.982649      0.584393      1.759448      2.097929      0.652253   \n",
       "std        0.939415      0.492849      1.490133      1.671441      0.476277   \n",
       "min        0.000000      0.000000      0.000000      0.000000      0.000000   \n",
       "25%        0.000000      0.000000      0.000000      0.000000      0.000000   \n",
       "50%        1.000000      1.000000      3.000000      3.000000      1.000000   \n",
       "75%        1.000000      1.000000      3.000000      3.000000      1.000000   \n",
       "max        6.000000      1.000000      6.000000      9.000000      1.000000   \n",
       "\n",
       "         turnover_A    turnover_B  contract  \n",
       "count  11008.000000  11008.000000   11008.0  \n",
       "mean     372.332403    344.120565       2.0  \n",
       "std       96.685932    524.372413       0.0  \n",
       "min      300.095909    191.962852       2.0  \n",
       "25%      332.229899    218.302029       2.0  \n",
       "50%      361.930298    235.025216       2.0  \n",
       "75%      391.567662    253.759401       2.0  \n",
       "max     5568.784139  12249.084770       2.0  "
      ]
     },
     "execution_count": 139,
     "metadata": {},
     "output_type": "execute_result"
    }
   ],
   "source": [
    "# Load boxcox function from scipy.stats\n",
    "from scipy.stats import boxcox\n",
    "from scipy import stats\n",
    "data1 = data1.drop(['age_P', 'lor_M'], axis=1) \n",
    "data1.describe()"
   ]
  },
  {
   "cell_type": "code",
   "execution_count": 140,
   "metadata": {},
   "outputs": [
    {
     "data": {
      "text/html": [
       "<div>\n",
       "<style scoped>\n",
       "    .dataframe tbody tr th:only-of-type {\n",
       "        vertical-align: middle;\n",
       "    }\n",
       "\n",
       "    .dataframe tbody tr th {\n",
       "        vertical-align: top;\n",
       "    }\n",
       "\n",
       "    .dataframe thead th {\n",
       "        text-align: right;\n",
       "    }\n",
       "</style>\n",
       "<table border=\"1\" class=\"dataframe\">\n",
       "  <thead>\n",
       "    <tr style=\"text-align: right;\">\n",
       "      <th></th>\n",
       "      <th>TARGET</th>\n",
       "      <th>loyalty</th>\n",
       "      <th>ID</th>\n",
       "      <th>age</th>\n",
       "      <th>city</th>\n",
       "      <th>LOR</th>\n",
       "      <th>prod_A</th>\n",
       "      <th>type_A</th>\n",
       "      <th>type_B</th>\n",
       "      <th>prod_B</th>\n",
       "      <th>turnover_A</th>\n",
       "      <th>turnover_B</th>\n",
       "      <th>contract</th>\n",
       "    </tr>\n",
       "  </thead>\n",
       "  <tbody>\n",
       "    <tr>\n",
       "      <th>0</th>\n",
       "      <td>1</td>\n",
       "      <td>99</td>\n",
       "      <td>77</td>\n",
       "      <td>66</td>\n",
       "      <td>2</td>\n",
       "      <td>0</td>\n",
       "      <td>0</td>\n",
       "      <td>0</td>\n",
       "      <td>0</td>\n",
       "      <td>0</td>\n",
       "      <td>0.375512</td>\n",
       "      <td>0.330556</td>\n",
       "      <td>2</td>\n",
       "    </tr>\n",
       "    <tr>\n",
       "      <th>1</th>\n",
       "      <td>1</td>\n",
       "      <td>1</td>\n",
       "      <td>159</td>\n",
       "      <td>45</td>\n",
       "      <td>2</td>\n",
       "      <td>3</td>\n",
       "      <td>1</td>\n",
       "      <td>3</td>\n",
       "      <td>3</td>\n",
       "      <td>1</td>\n",
       "      <td>0.375512</td>\n",
       "      <td>0.330556</td>\n",
       "      <td>2</td>\n",
       "    </tr>\n",
       "    <tr>\n",
       "      <th>2</th>\n",
       "      <td>1</td>\n",
       "      <td>1</td>\n",
       "      <td>220</td>\n",
       "      <td>42</td>\n",
       "      <td>2</td>\n",
       "      <td>2</td>\n",
       "      <td>1</td>\n",
       "      <td>3</td>\n",
       "      <td>6</td>\n",
       "      <td>1</td>\n",
       "      <td>0.375512</td>\n",
       "      <td>0.330556</td>\n",
       "      <td>2</td>\n",
       "    </tr>\n",
       "    <tr>\n",
       "      <th>3</th>\n",
       "      <td>1</td>\n",
       "      <td>99</td>\n",
       "      <td>303</td>\n",
       "      <td>31</td>\n",
       "      <td>2</td>\n",
       "      <td>0</td>\n",
       "      <td>0</td>\n",
       "      <td>0</td>\n",
       "      <td>0</td>\n",
       "      <td>0</td>\n",
       "      <td>0.375512</td>\n",
       "      <td>0.330556</td>\n",
       "      <td>2</td>\n",
       "    </tr>\n",
       "    <tr>\n",
       "      <th>4</th>\n",
       "      <td>1</td>\n",
       "      <td>99</td>\n",
       "      <td>306</td>\n",
       "      <td>62</td>\n",
       "      <td>2</td>\n",
       "      <td>0</td>\n",
       "      <td>0</td>\n",
       "      <td>0</td>\n",
       "      <td>0</td>\n",
       "      <td>0</td>\n",
       "      <td>0.375512</td>\n",
       "      <td>0.330556</td>\n",
       "      <td>2</td>\n",
       "    </tr>\n",
       "    <tr>\n",
       "      <th>...</th>\n",
       "      <td>...</td>\n",
       "      <td>...</td>\n",
       "      <td>...</td>\n",
       "      <td>...</td>\n",
       "      <td>...</td>\n",
       "      <td>...</td>\n",
       "      <td>...</td>\n",
       "      <td>...</td>\n",
       "      <td>...</td>\n",
       "      <td>...</td>\n",
       "      <td>...</td>\n",
       "      <td>...</td>\n",
       "      <td>...</td>\n",
       "    </tr>\n",
       "    <tr>\n",
       "      <th>11003</th>\n",
       "      <td>0</td>\n",
       "      <td>1</td>\n",
       "      <td>16793</td>\n",
       "      <td>33</td>\n",
       "      <td>2</td>\n",
       "      <td>2</td>\n",
       "      <td>1</td>\n",
       "      <td>3</td>\n",
       "      <td>3</td>\n",
       "      <td>1</td>\n",
       "      <td>0.375512</td>\n",
       "      <td>0.330556</td>\n",
       "      <td>2</td>\n",
       "    </tr>\n",
       "    <tr>\n",
       "      <th>11004</th>\n",
       "      <td>0</td>\n",
       "      <td>99</td>\n",
       "      <td>16794</td>\n",
       "      <td>23</td>\n",
       "      <td>2</td>\n",
       "      <td>0</td>\n",
       "      <td>0</td>\n",
       "      <td>0</td>\n",
       "      <td>0</td>\n",
       "      <td>0</td>\n",
       "      <td>0.375512</td>\n",
       "      <td>0.330556</td>\n",
       "      <td>2</td>\n",
       "    </tr>\n",
       "    <tr>\n",
       "      <th>11005</th>\n",
       "      <td>0</td>\n",
       "      <td>1</td>\n",
       "      <td>16798</td>\n",
       "      <td>23</td>\n",
       "      <td>2</td>\n",
       "      <td>2</td>\n",
       "      <td>1</td>\n",
       "      <td>3</td>\n",
       "      <td>3</td>\n",
       "      <td>1</td>\n",
       "      <td>0.375512</td>\n",
       "      <td>0.330556</td>\n",
       "      <td>2</td>\n",
       "    </tr>\n",
       "    <tr>\n",
       "      <th>11006</th>\n",
       "      <td>0</td>\n",
       "      <td>99</td>\n",
       "      <td>16800</td>\n",
       "      <td>32</td>\n",
       "      <td>2</td>\n",
       "      <td>1</td>\n",
       "      <td>1</td>\n",
       "      <td>3</td>\n",
       "      <td>3</td>\n",
       "      <td>1</td>\n",
       "      <td>0.375512</td>\n",
       "      <td>0.330556</td>\n",
       "      <td>2</td>\n",
       "    </tr>\n",
       "    <tr>\n",
       "      <th>11007</th>\n",
       "      <td>0</td>\n",
       "      <td>2</td>\n",
       "      <td>16801</td>\n",
       "      <td>23</td>\n",
       "      <td>2</td>\n",
       "      <td>3</td>\n",
       "      <td>1</td>\n",
       "      <td>3</td>\n",
       "      <td>3</td>\n",
       "      <td>1</td>\n",
       "      <td>0.375512</td>\n",
       "      <td>0.330556</td>\n",
       "      <td>2</td>\n",
       "    </tr>\n",
       "  </tbody>\n",
       "</table>\n",
       "<p>11008 rows × 13 columns</p>\n",
       "</div>"
      ],
      "text/plain": [
       "       TARGET  loyalty     ID  age  city  LOR  prod_A  type_A  type_B  prod_B  \\\n",
       "0           1       99     77   66     2    0       0       0       0       0   \n",
       "1           1        1    159   45     2    3       1       3       3       1   \n",
       "2           1        1    220   42     2    2       1       3       6       1   \n",
       "3           1       99    303   31     2    0       0       0       0       0   \n",
       "4           1       99    306   62     2    0       0       0       0       0   \n",
       "...       ...      ...    ...  ...   ...  ...     ...     ...     ...     ...   \n",
       "11003       0        1  16793   33     2    2       1       3       3       1   \n",
       "11004       0       99  16794   23     2    0       0       0       0       0   \n",
       "11005       0        1  16798   23     2    2       1       3       3       1   \n",
       "11006       0       99  16800   32     2    1       1       3       3       1   \n",
       "11007       0        2  16801   23     2    3       1       3       3       1   \n",
       "\n",
       "       turnover_A  turnover_B  contract  \n",
       "0        0.375512    0.330556         2  \n",
       "1        0.375512    0.330556         2  \n",
       "2        0.375512    0.330556         2  \n",
       "3        0.375512    0.330556         2  \n",
       "4        0.375512    0.330556         2  \n",
       "...           ...         ...       ...  \n",
       "11003    0.375512    0.330556         2  \n",
       "11004    0.375512    0.330556         2  \n",
       "11005    0.375512    0.330556         2  \n",
       "11006    0.375512    0.330556         2  \n",
       "11007    0.375512    0.330556         2  \n",
       "\n",
       "[11008 rows x 13 columns]"
      ]
     },
     "execution_count": 140,
     "metadata": {},
     "output_type": "execute_result"
    }
   ],
   "source": [
    "# using boxcox to deal with some outliers and finish normalization\n",
    "x1 = data1.turnover_A\n",
    "y1, fixed_x1 = stats.boxcox(x1)\n",
    "data1['turnover_A'] = pd.DataFrame(y1)\n",
    "\n",
    "x2 = data1.turnover_B\n",
    "y2, fixed_x2 = stats.boxcox(x2)\n",
    "data1['turnover_B'] = pd.DataFrame(y2)\n",
    "\n",
    "data1"
   ]
  },
  {
   "cell_type": "markdown",
   "metadata": {},
   "source": [
    "For nominal categorical attributes that we choose to use in our model, we use the get_dummies function to turn those attributes into dummy variables."
   ]
  },
  {
   "cell_type": "code",
   "execution_count": 141,
   "metadata": {},
   "outputs": [],
   "source": [
    "data1['city']=data['city'].apply(lambda x:'2' if x==2 else 'other')"
   ]
  },
  {
   "cell_type": "code",
   "execution_count": 142,
   "metadata": {},
   "outputs": [],
   "source": [
    "# get NOMINAL categorical attributes into dummy variables\n",
    "data1 = pd.get_dummies(data1,columns = ['type_B'], prefix = ['type_B'], prefix_sep = '_', dummy_na = False, drop_first = False)\n",
    "data1 = pd.get_dummies(data1,columns = ['city'], prefix = ['city'], prefix_sep = '_', dummy_na = False, drop_first = False)\n",
    "data1 = pd.get_dummies(data1,columns = ['type_A'], prefix = ['type_A'], prefix_sep = '_', dummy_na = False, drop_first = False)"
   ]
  },
  {
   "cell_type": "code",
   "execution_count": 143,
   "metadata": {},
   "outputs": [
    {
     "data": {
      "text/html": [
       "<div>\n",
       "<style scoped>\n",
       "    .dataframe tbody tr th:only-of-type {\n",
       "        vertical-align: middle;\n",
       "    }\n",
       "\n",
       "    .dataframe tbody tr th {\n",
       "        vertical-align: top;\n",
       "    }\n",
       "\n",
       "    .dataframe thead th {\n",
       "        text-align: right;\n",
       "    }\n",
       "</style>\n",
       "<table border=\"1\" class=\"dataframe\">\n",
       "  <thead>\n",
       "    <tr style=\"text-align: right;\">\n",
       "      <th></th>\n",
       "      <th>TARGET</th>\n",
       "      <th>loyalty</th>\n",
       "      <th>ID</th>\n",
       "      <th>age</th>\n",
       "      <th>LOR</th>\n",
       "      <th>prod_A</th>\n",
       "      <th>prod_B</th>\n",
       "      <th>turnover_A</th>\n",
       "      <th>turnover_B</th>\n",
       "      <th>contract</th>\n",
       "      <th>type_B_0</th>\n",
       "      <th>type_B_3</th>\n",
       "      <th>type_B_6</th>\n",
       "      <th>type_B_9</th>\n",
       "      <th>city_2</th>\n",
       "      <th>city_other</th>\n",
       "      <th>type_A_0</th>\n",
       "      <th>type_A_3</th>\n",
       "      <th>type_A_6</th>\n",
       "    </tr>\n",
       "  </thead>\n",
       "  <tbody>\n",
       "    <tr>\n",
       "      <th>0</th>\n",
       "      <td>1</td>\n",
       "      <td>99</td>\n",
       "      <td>77</td>\n",
       "      <td>66</td>\n",
       "      <td>0</td>\n",
       "      <td>0</td>\n",
       "      <td>0</td>\n",
       "      <td>0.375512</td>\n",
       "      <td>0.330556</td>\n",
       "      <td>2</td>\n",
       "      <td>1</td>\n",
       "      <td>0</td>\n",
       "      <td>0</td>\n",
       "      <td>0</td>\n",
       "      <td>1</td>\n",
       "      <td>0</td>\n",
       "      <td>1</td>\n",
       "      <td>0</td>\n",
       "      <td>0</td>\n",
       "    </tr>\n",
       "    <tr>\n",
       "      <th>1</th>\n",
       "      <td>1</td>\n",
       "      <td>1</td>\n",
       "      <td>159</td>\n",
       "      <td>45</td>\n",
       "      <td>3</td>\n",
       "      <td>1</td>\n",
       "      <td>1</td>\n",
       "      <td>0.375512</td>\n",
       "      <td>0.330556</td>\n",
       "      <td>2</td>\n",
       "      <td>0</td>\n",
       "      <td>1</td>\n",
       "      <td>0</td>\n",
       "      <td>0</td>\n",
       "      <td>1</td>\n",
       "      <td>0</td>\n",
       "      <td>0</td>\n",
       "      <td>1</td>\n",
       "      <td>0</td>\n",
       "    </tr>\n",
       "    <tr>\n",
       "      <th>2</th>\n",
       "      <td>1</td>\n",
       "      <td>1</td>\n",
       "      <td>220</td>\n",
       "      <td>42</td>\n",
       "      <td>2</td>\n",
       "      <td>1</td>\n",
       "      <td>1</td>\n",
       "      <td>0.375512</td>\n",
       "      <td>0.330556</td>\n",
       "      <td>2</td>\n",
       "      <td>0</td>\n",
       "      <td>0</td>\n",
       "      <td>1</td>\n",
       "      <td>0</td>\n",
       "      <td>1</td>\n",
       "      <td>0</td>\n",
       "      <td>0</td>\n",
       "      <td>1</td>\n",
       "      <td>0</td>\n",
       "    </tr>\n",
       "    <tr>\n",
       "      <th>3</th>\n",
       "      <td>1</td>\n",
       "      <td>99</td>\n",
       "      <td>303</td>\n",
       "      <td>31</td>\n",
       "      <td>0</td>\n",
       "      <td>0</td>\n",
       "      <td>0</td>\n",
       "      <td>0.375512</td>\n",
       "      <td>0.330556</td>\n",
       "      <td>2</td>\n",
       "      <td>1</td>\n",
       "      <td>0</td>\n",
       "      <td>0</td>\n",
       "      <td>0</td>\n",
       "      <td>1</td>\n",
       "      <td>0</td>\n",
       "      <td>1</td>\n",
       "      <td>0</td>\n",
       "      <td>0</td>\n",
       "    </tr>\n",
       "    <tr>\n",
       "      <th>4</th>\n",
       "      <td>1</td>\n",
       "      <td>99</td>\n",
       "      <td>306</td>\n",
       "      <td>62</td>\n",
       "      <td>0</td>\n",
       "      <td>0</td>\n",
       "      <td>0</td>\n",
       "      <td>0.375512</td>\n",
       "      <td>0.330556</td>\n",
       "      <td>2</td>\n",
       "      <td>1</td>\n",
       "      <td>0</td>\n",
       "      <td>0</td>\n",
       "      <td>0</td>\n",
       "      <td>1</td>\n",
       "      <td>0</td>\n",
       "      <td>1</td>\n",
       "      <td>0</td>\n",
       "      <td>0</td>\n",
       "    </tr>\n",
       "    <tr>\n",
       "      <th>...</th>\n",
       "      <td>...</td>\n",
       "      <td>...</td>\n",
       "      <td>...</td>\n",
       "      <td>...</td>\n",
       "      <td>...</td>\n",
       "      <td>...</td>\n",
       "      <td>...</td>\n",
       "      <td>...</td>\n",
       "      <td>...</td>\n",
       "      <td>...</td>\n",
       "      <td>...</td>\n",
       "      <td>...</td>\n",
       "      <td>...</td>\n",
       "      <td>...</td>\n",
       "      <td>...</td>\n",
       "      <td>...</td>\n",
       "      <td>...</td>\n",
       "      <td>...</td>\n",
       "      <td>...</td>\n",
       "    </tr>\n",
       "    <tr>\n",
       "      <th>11003</th>\n",
       "      <td>0</td>\n",
       "      <td>1</td>\n",
       "      <td>16793</td>\n",
       "      <td>33</td>\n",
       "      <td>2</td>\n",
       "      <td>1</td>\n",
       "      <td>1</td>\n",
       "      <td>0.375512</td>\n",
       "      <td>0.330556</td>\n",
       "      <td>2</td>\n",
       "      <td>0</td>\n",
       "      <td>1</td>\n",
       "      <td>0</td>\n",
       "      <td>0</td>\n",
       "      <td>1</td>\n",
       "      <td>0</td>\n",
       "      <td>0</td>\n",
       "      <td>1</td>\n",
       "      <td>0</td>\n",
       "    </tr>\n",
       "    <tr>\n",
       "      <th>11004</th>\n",
       "      <td>0</td>\n",
       "      <td>99</td>\n",
       "      <td>16794</td>\n",
       "      <td>23</td>\n",
       "      <td>0</td>\n",
       "      <td>0</td>\n",
       "      <td>0</td>\n",
       "      <td>0.375512</td>\n",
       "      <td>0.330556</td>\n",
       "      <td>2</td>\n",
       "      <td>1</td>\n",
       "      <td>0</td>\n",
       "      <td>0</td>\n",
       "      <td>0</td>\n",
       "      <td>1</td>\n",
       "      <td>0</td>\n",
       "      <td>1</td>\n",
       "      <td>0</td>\n",
       "      <td>0</td>\n",
       "    </tr>\n",
       "    <tr>\n",
       "      <th>11005</th>\n",
       "      <td>0</td>\n",
       "      <td>1</td>\n",
       "      <td>16798</td>\n",
       "      <td>23</td>\n",
       "      <td>2</td>\n",
       "      <td>1</td>\n",
       "      <td>1</td>\n",
       "      <td>0.375512</td>\n",
       "      <td>0.330556</td>\n",
       "      <td>2</td>\n",
       "      <td>0</td>\n",
       "      <td>1</td>\n",
       "      <td>0</td>\n",
       "      <td>0</td>\n",
       "      <td>1</td>\n",
       "      <td>0</td>\n",
       "      <td>0</td>\n",
       "      <td>1</td>\n",
       "      <td>0</td>\n",
       "    </tr>\n",
       "    <tr>\n",
       "      <th>11006</th>\n",
       "      <td>0</td>\n",
       "      <td>99</td>\n",
       "      <td>16800</td>\n",
       "      <td>32</td>\n",
       "      <td>1</td>\n",
       "      <td>1</td>\n",
       "      <td>1</td>\n",
       "      <td>0.375512</td>\n",
       "      <td>0.330556</td>\n",
       "      <td>2</td>\n",
       "      <td>0</td>\n",
       "      <td>1</td>\n",
       "      <td>0</td>\n",
       "      <td>0</td>\n",
       "      <td>1</td>\n",
       "      <td>0</td>\n",
       "      <td>0</td>\n",
       "      <td>1</td>\n",
       "      <td>0</td>\n",
       "    </tr>\n",
       "    <tr>\n",
       "      <th>11007</th>\n",
       "      <td>0</td>\n",
       "      <td>2</td>\n",
       "      <td>16801</td>\n",
       "      <td>23</td>\n",
       "      <td>3</td>\n",
       "      <td>1</td>\n",
       "      <td>1</td>\n",
       "      <td>0.375512</td>\n",
       "      <td>0.330556</td>\n",
       "      <td>2</td>\n",
       "      <td>0</td>\n",
       "      <td>1</td>\n",
       "      <td>0</td>\n",
       "      <td>0</td>\n",
       "      <td>1</td>\n",
       "      <td>0</td>\n",
       "      <td>0</td>\n",
       "      <td>1</td>\n",
       "      <td>0</td>\n",
       "    </tr>\n",
       "  </tbody>\n",
       "</table>\n",
       "<p>11008 rows × 19 columns</p>\n",
       "</div>"
      ],
      "text/plain": [
       "       TARGET  loyalty     ID  age  LOR  prod_A  prod_B  turnover_A  \\\n",
       "0           1       99     77   66    0       0       0    0.375512   \n",
       "1           1        1    159   45    3       1       1    0.375512   \n",
       "2           1        1    220   42    2       1       1    0.375512   \n",
       "3           1       99    303   31    0       0       0    0.375512   \n",
       "4           1       99    306   62    0       0       0    0.375512   \n",
       "...       ...      ...    ...  ...  ...     ...     ...         ...   \n",
       "11003       0        1  16793   33    2       1       1    0.375512   \n",
       "11004       0       99  16794   23    0       0       0    0.375512   \n",
       "11005       0        1  16798   23    2       1       1    0.375512   \n",
       "11006       0       99  16800   32    1       1       1    0.375512   \n",
       "11007       0        2  16801   23    3       1       1    0.375512   \n",
       "\n",
       "       turnover_B  contract  type_B_0  type_B_3  type_B_6  type_B_9  city_2  \\\n",
       "0        0.330556         2         1         0         0         0       1   \n",
       "1        0.330556         2         0         1         0         0       1   \n",
       "2        0.330556         2         0         0         1         0       1   \n",
       "3        0.330556         2         1         0         0         0       1   \n",
       "4        0.330556         2         1         0         0         0       1   \n",
       "...           ...       ...       ...       ...       ...       ...     ...   \n",
       "11003    0.330556         2         0         1         0         0       1   \n",
       "11004    0.330556         2         1         0         0         0       1   \n",
       "11005    0.330556         2         0         1         0         0       1   \n",
       "11006    0.330556         2         0         1         0         0       1   \n",
       "11007    0.330556         2         0         1         0         0       1   \n",
       "\n",
       "       city_other  type_A_0  type_A_3  type_A_6  \n",
       "0               0         1         0         0  \n",
       "1               0         0         1         0  \n",
       "2               0         0         1         0  \n",
       "3               0         1         0         0  \n",
       "4               0         1         0         0  \n",
       "...           ...       ...       ...       ...  \n",
       "11003           0         0         1         0  \n",
       "11004           0         1         0         0  \n",
       "11005           0         0         1         0  \n",
       "11006           0         0         1         0  \n",
       "11007           0         0         1         0  \n",
       "\n",
       "[11008 rows x 19 columns]"
      ]
     },
     "execution_count": 143,
     "metadata": {},
     "output_type": "execute_result"
    }
   ],
   "source": [
    "data1"
   ]
  },
  {
   "cell_type": "markdown",
   "metadata": {},
   "source": [
    "## Prepped Data Review"
   ]
  },
  {
   "cell_type": "markdown",
   "metadata": {},
   "source": [
    "After data preparation, we need to rerun EDA and to see the change"
   ]
  },
  {
   "cell_type": "code",
   "execution_count": 144,
   "metadata": {},
   "outputs": [],
   "source": [
    "#seperate categorical data and numercial data\n",
    "data1_num = data1[['age','turnover_A','turnover_B','LOR']]\n",
    "data1_cat= data1[['loyalty','city_2','city_other','prod_A','type_A_0','type_A_3','type_A_6','prod_B','type_B_0','type_B_3','type_B_6','type_B_9','TARGET']]"
   ]
  },
  {
   "cell_type": "code",
   "execution_count": 145,
   "metadata": {},
   "outputs": [],
   "source": [
    "# turn the name of columns into list\n",
    "column_num=data1_num.columns.to_list()\n",
    "column_cat=data1_cat.columns.to_list()"
   ]
  },
  {
   "cell_type": "code",
   "execution_count": 146,
   "metadata": {},
   "outputs": [
    {
     "data": {
      "text/plain": [
       "11008"
      ]
     },
     "execution_count": 146,
     "metadata": {},
     "output_type": "execute_result"
    }
   ],
   "source": [
    "len(data1_cat)"
   ]
  },
  {
   "cell_type": "code",
   "execution_count": 147,
   "metadata": {},
   "outputs": [
    {
     "data": {
      "image/png": "[encoded data removed]",
      "text/plain": [
       "<Figure size 1080x1080 with 13 Axes>"
      ]
     },
     "metadata": {
      "needs_background": "light"
     },
     "output_type": "display_data"
    }
   ],
   "source": [
    "# show barplot of each attribute in the categorical dataset\n",
    "fig=plt.figure(figsize=(15,15))\n",
    "for i in range(len(column_cat)):\n",
    "    plt.subplot(3,5,i+1)\n",
    "    data1_cat[column_cat[i]].value_counts().plot.bar(title = \"Freq Dist\")\n",
    "    plt.xlabel(column_cat[i])\n",
    "plt.tight_layout()"
   ]
  },
  {
   "cell_type": "code",
   "execution_count": 148,
   "metadata": {},
   "outputs": [
    {
     "name": "stderr",
     "output_type": "stream",
     "text": [
      "D:\\python\\lib\\site-packages\\seaborn\\_decorators.py:36: FutureWarning: Pass the following variable as a keyword arg: x. From version 0.12, the only valid positional argument will be `data`, and passing other arguments without an explicit keyword will result in an error or misinterpretation.\n",
      "  warnings.warn(\n",
      "D:\\python\\lib\\site-packages\\seaborn\\_decorators.py:36: FutureWarning: Pass the following variable as a keyword arg: x. From version 0.12, the only valid positional argument will be `data`, and passing other arguments without an explicit keyword will result in an error or misinterpretation.\n",
      "  warnings.warn(\n",
      "D:\\python\\lib\\site-packages\\seaborn\\_decorators.py:36: FutureWarning: Pass the following variable as a keyword arg: x. From version 0.12, the only valid positional argument will be `data`, and passing other arguments without an explicit keyword will result in an error or misinterpretation.\n",
      "  warnings.warn(\n",
      "D:\\python\\lib\\site-packages\\seaborn\\_decorators.py:36: FutureWarning: Pass the following variable as a keyword arg: x. From version 0.12, the only valid positional argument will be `data`, and passing other arguments without an explicit keyword will result in an error or misinterpretation.\n",
      "  warnings.warn(\n"
     ]
    },
    {
     "data": {
      "image/png": "[encoded data removed]",
      "text/plain": [
       "<Figure size 1080x1440 with 8 Axes>"
      ]
     },
     "metadata": {
      "needs_background": "light"
     },
     "output_type": "display_data"
    }
   ],
   "source": [
    "#show histogram and aboxplot of each attributes\n",
    "fig=plt.figure(figsize=(15,20))\n",
    "for i in range(len(column_num)):\n",
    "    n=2*i\n",
    "    plt.subplot(12,4,n+1)\n",
    "    sns.boxplot(data1[column_num[i]])\n",
    "    plt.subplot(12,4,n+2)\n",
    "    plt.hist(data1[column_num[i]])\n",
    "    \n",
    "plt.tight_layout()"
   ]
  },
  {
   "cell_type": "markdown",
   "metadata": {},
   "source": [
    "After re-EDA, we can see that there are fewer outliers in 'turnover_A' and 'turnover_B' than before. We decide to set 2 groups/models based on the attributes we have right now for regression modeling afterward. According to the domain knowledge we have, we set out the first group including attributes that are relevant to product A, age in years, and indicator of buying the new product (0 = no, 1= yes). The second model includes attributes that are relevant with product B, age in years, and indicator of buying the new product (0 = no, 1= yes).   \n",
    "Model 1: prod_A, type_A, turnover_A, age, TARGET.  \n",
    "Model 2: prod_B, type_B, turnover_B, age, TARGET.  "
   ]
  },
  {
   "cell_type": "markdown",
   "metadata": {},
   "source": [
    "## KNN and SVM Modeling"
   ]
  },
  {
   "cell_type": "markdown",
   "metadata": {},
   "source": [
    "**KNN Model 1**"
   ]
  },
  {
   "cell_type": "code",
   "execution_count": 149,
   "metadata": {},
   "outputs": [],
   "source": [
    "# load the KNeighborsClassifier() function from sklearn's 'neighbors' sub-library\n",
    "from sklearn.neighbors import KNeighborsClassifier\n",
    "from sklearn.model_selection import train_test_split\n",
    "X1 = data1[['prod_A','type_A_0','type_A_3','type_A_6','turnover_A', 'age']].copy()\n",
    "Y1 = data1.TARGET"
   ]
  },
  {
   "cell_type": "code",
   "execution_count": 150,
   "metadata": {},
   "outputs": [],
   "source": [
    "# finish the train test split\n",
    "X1_train, X1_test, Y1_train, Y1_test = train_test_split(X1,Y1, test_size = 0.2, random_state = 12)"
   ]
  },
  {
   "cell_type": "code",
   "execution_count": 151,
   "metadata": {},
   "outputs": [
    {
     "data": {
      "text/plain": [
       "((8806, 6), (8806,))"
      ]
     },
     "execution_count": 151,
     "metadata": {},
     "output_type": "execute_result"
    }
   ],
   "source": [
    "# check the shape of the training dataset\n",
    "X1_train.shape, Y1_train.shape"
   ]
  },
  {
   "cell_type": "code",
   "execution_count": 152,
   "metadata": {},
   "outputs": [
    {
     "data": {
      "image/png": "[encoded data removed]",
      "text/plain": [
       "<Figure size 432x288 with 1 Axes>"
      ]
     },
     "metadata": {
      "needs_background": "light"
     },
     "output_type": "display_data"
    }
   ],
   "source": [
    "from sklearn import model_selection\n",
    "# make line chart and scatter plot \n",
    "# Use the 10-fold cross-validation method to compare the prediction accuracy of the KNN model under each k value\n",
    "from sklearn import neighbors\n",
    "import matplotlib.pyplot as plt\n",
    "def KNN_valuechoise(X_tain, y_train, K_num):\n",
    "    K = np.arange(1,K_num+1)\n",
    "    length = len(K)\n",
    "    accuracy = []\n",
    "    for k in K:    \n",
    "        cv_result = model_selection.cross_val_score(neighbors.KNeighborsClassifier(n_neighbors = int(k), weights = 'distance'), \n",
    "                                                    X1_train, Y1_train, cv = 10, scoring='accuracy')\n",
    "        accuracy.append(cv_result.mean())    \n",
    "    arg_max = np.array(accuracy).argmax() \n",
    "    plt.plot(K, accuracy) \n",
    "    plt.scatter(K, accuracy) \n",
    "    plt.text(K[arg_max], accuracy[arg_max], 'the best k-value is %s' %int(K[arg_max]))\n",
    "    plt.xticks(np.arange(K_num+1), np.arange(K_num+1)) \n",
    "    plt.show()\n",
    "    \n",
    "KNN_valuechoise(X1_train, Y1_train, 50)"
   ]
  },
  {
   "cell_type": "markdown",
   "metadata": {},
   "source": [
    "According to the process of valuing the best k-value, we are going to use '46' as our value of n_neighbors for KNN model1"
   ]
  },
  {
   "cell_type": "code",
   "execution_count": 153,
   "metadata": {},
   "outputs": [
    {
     "data": {
      "text/plain": [
       "KNeighborsClassifier(n_neighbors=46)"
      ]
     },
     "execution_count": 153,
     "metadata": {},
     "output_type": "execute_result"
    }
   ],
   "source": [
    "#Train the model\n",
    "KNN_Classifier1 = KNeighborsClassifier(n_neighbors = 46, p = 2,metric = 'minkowski')\n",
    "KNN_Classifier1.fit(X1_train, Y1_train)"
   ]
  },
  {
   "cell_type": "code",
   "execution_count": 154,
   "metadata": {},
   "outputs": [
    {
     "data": {
      "text/plain": [
       "0.8000227117874177"
      ]
     },
     "execution_count": 154,
     "metadata": {},
     "output_type": "execute_result"
    }
   ],
   "source": [
    "#show the accuracy score of this model\n",
    "KNN_Classifier1.score(X1_train, Y1_train)"
   ]
  },
  {
   "cell_type": "markdown",
   "metadata": {},
   "source": [
    "The KNN model 1 has an accuracy score of 80.00%"
   ]
  },
  {
   "cell_type": "markdown",
   "metadata": {},
   "source": [
    "**KNN Model 2**"
   ]
  },
  {
   "cell_type": "code",
   "execution_count": 155,
   "metadata": {},
   "outputs": [],
   "source": [
    "X2 = data1[['prod_B','type_B_0','type_B_3','type_B_6','type_B_9','turnover_B', 'age']].copy()\n",
    "Y2 = data1.TARGET"
   ]
  },
  {
   "cell_type": "code",
   "execution_count": 156,
   "metadata": {},
   "outputs": [],
   "source": [
    "# finish the train test split\n",
    "X2_train, X2_test, Y2_train, Y2_test = train_test_split(X2,Y2, test_size = 0.2, random_state = 12)"
   ]
  },
  {
   "cell_type": "code",
   "execution_count": 157,
   "metadata": {},
   "outputs": [
    {
     "data": {
      "image/png": "[encoded data removed]",
      "text/plain": [
       "<Figure size 432x288 with 1 Axes>"
      ]
     },
     "metadata": {
      "needs_background": "light"
     },
     "output_type": "display_data"
    }
   ],
   "source": [
    "KNN_valuechoise(X2_train, Y2_train, 50)"
   ]
  },
  {
   "cell_type": "markdown",
   "metadata": {},
   "source": [
    "According to the process of valuing the best k-value, we are going to use '46' as our value of n_neighbors for KNN model2"
   ]
  },
  {
   "cell_type": "code",
   "execution_count": 159,
   "metadata": {},
   "outputs": [
    {
     "data": {
      "text/plain": [
       "KNeighborsClassifier(n_neighbors=46)"
      ]
     },
     "execution_count": 159,
     "metadata": {},
     "output_type": "execute_result"
    }
   ],
   "source": [
    "#Train the model\n",
    "KNN_Classifier2 = KNeighborsClassifier(n_neighbors = 46, p = 2,metric = 'minkowski')\n",
    "KNN_Classifier2.fit(X2_train, Y2_train)"
   ]
  },
  {
   "cell_type": "code",
   "execution_count": 160,
   "metadata": {},
   "outputs": [
    {
     "data": {
      "text/plain": [
       "0.8047921871451283"
      ]
     },
     "execution_count": 160,
     "metadata": {},
     "output_type": "execute_result"
    }
   ],
   "source": [
    "#show the accuracy score of this model\n",
    "KNN_Classifier2.score(X2_train, Y2_train)"
   ]
  },
  {
   "cell_type": "markdown",
   "metadata": {},
   "source": [
    "The KNN model 2 has an accuracy score of 80.48%."
   ]
  },
  {
   "cell_type": "markdown",
   "metadata": {},
   "source": [
    "**SVM Model 1**"
   ]
  },
  {
   "cell_type": "markdown",
   "metadata": {},
   "source": [
    "Due to our response variable being a categorical attribute, so we use the rbf() kernel in Support Vector Machines."
   ]
  },
  {
   "cell_type": "code",
   "execution_count": 161,
   "metadata": {},
   "outputs": [],
   "source": [
    "## load the SVC() function from sklearn's 'svm' sub-library\n",
    "from sklearn.svm import SVC"
   ]
  },
  {
   "cell_type": "code",
   "execution_count": 162,
   "metadata": {},
   "outputs": [
    {
     "data": {
      "text/plain": [
       "SVC()"
      ]
     },
     "execution_count": 162,
     "metadata": {},
     "output_type": "execute_result"
    }
   ],
   "source": [
    "#Train the model\n",
    "clf1 = SVC(kernel = 'rbf')\n",
    "clf1.fit(X1_train,Y1_train)"
   ]
  },
  {
   "cell_type": "code",
   "execution_count": 163,
   "metadata": {},
   "outputs": [
    {
     "data": {
      "text/plain": [
       "0.7255280490574608"
      ]
     },
     "execution_count": 163,
     "metadata": {},
     "output_type": "execute_result"
    }
   ],
   "source": [
    "#show the accuracy score of this model\n",
    "clf1.score(X1_train,Y1_train)"
   ]
  },
  {
   "cell_type": "markdown",
   "metadata": {},
   "source": [
    "The SVM Model 1 has an accuracy score of 72.55%."
   ]
  },
  {
   "cell_type": "markdown",
   "metadata": {},
   "source": [
    "**SVM Model 2**"
   ]
  },
  {
   "cell_type": "code",
   "execution_count": 164,
   "metadata": {},
   "outputs": [
    {
     "data": {
      "text/plain": [
       "SVC()"
      ]
     },
     "execution_count": 164,
     "metadata": {},
     "output_type": "execute_result"
    }
   ],
   "source": [
    "#Train the model\n",
    "clf2 = SVC(kernel = 'rbf')\n",
    "clf2.fit(X2_train,Y2_train)"
   ]
  },
  {
   "cell_type": "code",
   "execution_count": 165,
   "metadata": {},
   "outputs": [
    {
     "data": {
      "text/plain": [
       "0.7684533272768567"
      ]
     },
     "execution_count": 165,
     "metadata": {},
     "output_type": "execute_result"
    }
   ],
   "source": [
    "#show the accuracy score of this model\n",
    "clf2.score(X2_train,Y2_train)"
   ]
  },
  {
   "cell_type": "markdown",
   "metadata": {},
   "source": [
    "The SVM Model 2 has an accuracy score of 76.85%."
   ]
  },
  {
   "cell_type": "markdown",
   "metadata": {},
   "source": [
    "## Select Models"
   ]
  },
  {
   "cell_type": "markdown",
   "metadata": {},
   "source": [
    "According to the accuracy scores above, we can see the KNN is more accurate than SVM. We will compare the KNN models with model 2 with logistic regression in the last assignment which is the best model we selected from the last assignment."
   ]
  },
  {
   "cell_type": "code",
   "execution_count": 166,
   "metadata": {},
   "outputs": [],
   "source": [
    "# generate evaluation metrics\n",
    "from sklearn import metrics "
   ]
  },
  {
   "cell_type": "code",
   "execution_count": 167,
   "metadata": {},
   "outputs": [
    {
     "data": {
      "text/plain": [
       "array([0, 0, 0, ..., 0, 0, 1], dtype=int64)"
      ]
     },
     "execution_count": 167,
     "metadata": {},
     "output_type": "execute_result"
    }
   ],
   "source": [
    "# predict class labels for the test set\n",
    "predictedKNN1 = KNN_Classifier1.predict(X1_test)\n",
    "predictedKNN1"
   ]
  },
  {
   "cell_type": "code",
   "execution_count": 168,
   "metadata": {},
   "outputs": [
    {
     "data": {
      "text/plain": [
       "array([[0.84782609, 0.15217391],\n",
       "       [0.84782609, 0.15217391],\n",
       "       [0.56521739, 0.43478261],\n",
       "       ...,\n",
       "       [0.58695652, 0.41304348],\n",
       "       [0.76086957, 0.23913043],\n",
       "       [0.45652174, 0.54347826]])"
      ]
     },
     "execution_count": 168,
     "metadata": {},
     "output_type": "execute_result"
    }
   ],
   "source": [
    "# show the class probabilities\n",
    "probsKNN1 = KNN_Classifier1.predict_proba(X1_test)\n",
    "probsKNN1"
   ]
  },
  {
   "cell_type": "code",
   "execution_count": 169,
   "metadata": {},
   "outputs": [
    {
     "data": {
      "text/plain": [
       "array([0, 0, 1, ..., 0, 0, 0], dtype=int64)"
      ]
     },
     "execution_count": 169,
     "metadata": {},
     "output_type": "execute_result"
    }
   ],
   "source": [
    "# predict class labels for the test set\n",
    "predictedKNN2 = KNN_Classifier2.predict(X2_test)\n",
    "predictedKNN2"
   ]
  },
  {
   "cell_type": "code",
   "execution_count": 170,
   "metadata": {},
   "outputs": [
    {
     "data": {
      "text/plain": [
       "array([[0.80434783, 0.19565217],\n",
       "       [0.80434783, 0.19565217],\n",
       "       [0.43478261, 0.56521739],\n",
       "       ...,\n",
       "       [0.69565217, 0.30434783],\n",
       "       [0.80434783, 0.19565217],\n",
       "       [0.65217391, 0.34782609]])"
      ]
     },
     "execution_count": 170,
     "metadata": {},
     "output_type": "execute_result"
    }
   ],
   "source": [
    "# show the class probabilities\n",
    "probsKNN2 = KNN_Classifier2.predict_proba(X2_test)\n",
    "probsKNN2"
   ]
  },
  {
   "cell_type": "markdown",
   "metadata": {},
   "source": [
    "**LogisticRegression Model2(preferred model in M7 Assignment)**"
   ]
  },
  {
   "cell_type": "code",
   "execution_count": 171,
   "metadata": {},
   "outputs": [
    {
     "data": {
      "text/plain": [
       "LogisticRegression()"
      ]
     },
     "execution_count": 171,
     "metadata": {},
     "output_type": "execute_result"
    }
   ],
   "source": [
    "# load the LogisticRegression() function from sklearn's 'linear_model' sub-library\n",
    "from sklearn.linear_model import LogisticRegression\n",
    "model2 = LogisticRegression()\n",
    "model2.fit(X2_train, Y2_train)"
   ]
  },
  {
   "cell_type": "code",
   "execution_count": 172,
   "metadata": {},
   "outputs": [
    {
     "data": {
      "text/plain": [
       "0.7547126958891665"
      ]
     },
     "execution_count": 172,
     "metadata": {},
     "output_type": "execute_result"
    }
   ],
   "source": [
    "model2.score(X2_train, Y2_train)"
   ]
  },
  {
   "cell_type": "code",
   "execution_count": 173,
   "metadata": {},
   "outputs": [
    {
     "name": "stdout",
     "output_type": "stream",
     "text": [
      "prod_B type_B_0 type_B_3 type_B_6 type_B_9 turnover_B age\n"
     ]
    },
    {
     "data": {
      "text/plain": [
       "array([[-1.06148781e+00,  1.06163865e+00,  6.86436652e-01,\n",
       "        -7.38270381e-01, -1.00965408e+00,  5.82335566e-05,\n",
       "         4.41327666e-02]])"
      ]
     },
     "execution_count": 173,
     "metadata": {},
     "output_type": "execute_result"
    }
   ],
   "source": [
    "print('prod_B','type_B_0','type_B_3','type_B_6','type_B_9','turnover_B', 'age')\n",
    "model2.coef_"
   ]
  },
  {
   "cell_type": "markdown",
   "metadata": {},
   "source": [
    "From above we see that: The model2 with logistic regression model has an accuracy of 75.47%. The result changed a little bit due to we applied the different methods to finish EDA and Data Preparation this time.\n",
    "As for the coefficient of each attribute, we found that:\n",
    "- prod_B: People who have bought product B will be less willing to buy new product\n",
    "- type_B: The people who bought type 0 or 3 of the product, will be easier to buy new product. And the people who have bought the type of 6 and 9, will be not willing to buy new product.\n",
    "- turnover_B: When people spend more on product B, they will not be willing to buy new product\n",
    "- age: When people get older, it will be easier to buy the new insurance product."
   ]
  },
  {
   "cell_type": "code",
   "execution_count": 174,
   "metadata": {},
   "outputs": [
    {
     "data": {
      "text/plain": [
       "array([0, 0, 0, ..., 0, 0, 0], dtype=int64)"
      ]
     },
     "execution_count": 174,
     "metadata": {},
     "output_type": "execute_result"
    }
   ],
   "source": [
    "# predict class labels for the test set\n",
    "predicted2 = model2.predict(X2_test)\n",
    "predicted2"
   ]
  },
  {
   "cell_type": "code",
   "execution_count": 175,
   "metadata": {},
   "outputs": [
    {
     "data": {
      "text/plain": [
       "array([[0.83469767, 0.16530233],\n",
       "       [0.83469767, 0.16530233],\n",
       "       [0.5455245 , 0.4544755 ],\n",
       "       ...,\n",
       "       [0.86294366, 0.13705634],\n",
       "       [0.6308036 , 0.3691964 ],\n",
       "       [0.80888207, 0.19111793]])"
      ]
     },
     "execution_count": 175,
     "metadata": {},
     "output_type": "execute_result"
    }
   ],
   "source": [
    "# generate class probabilities\n",
    "probs2 = model2.predict_proba(X2_test)\n",
    "probs2"
   ]
  },
  {
   "cell_type": "markdown",
   "metadata": {},
   "source": [
    "## Model Evaluation"
   ]
  },
  {
   "cell_type": "code",
   "execution_count": 176,
   "metadata": {},
   "outputs": [
    {
     "name": "stdout",
     "output_type": "stream",
     "text": [
      "0.8019981834695731\n",
      "0.8330718064575081\n",
      "[[1526   85]\n",
      " [ 351  240]]\n",
      "              precision    recall  f1-score   support\n",
      "\n",
      "           0       0.81      0.95      0.88      1611\n",
      "           1       0.74      0.41      0.52       591\n",
      "\n",
      "    accuracy                           0.80      2202\n",
      "   macro avg       0.78      0.68      0.70      2202\n",
      "weighted avg       0.79      0.80      0.78      2202\n",
      "\n"
     ]
    }
   ],
   "source": [
    "print(metrics.accuracy_score(Y1_test, predictedKNN1))\n",
    "print(metrics.roc_auc_score(Y1_test, probsKNN1[:, 1]))\n",
    "print(metrics.confusion_matrix(Y1_test, predictedKNN1))\n",
    "print(metrics.classification_report(Y1_test, predictedKNN1))"
   ]
  },
  {
   "cell_type": "code",
   "execution_count": 177,
   "metadata": {},
   "outputs": [
    {
     "name": "stdout",
     "output_type": "stream",
     "text": [
      "0.7901907356948229\n",
      "0.8224306034758917\n",
      "[[1485  126]\n",
      " [ 336  255]]\n",
      "              precision    recall  f1-score   support\n",
      "\n",
      "           0       0.82      0.92      0.87      1611\n",
      "           1       0.67      0.43      0.52       591\n",
      "\n",
      "    accuracy                           0.79      2202\n",
      "   macro avg       0.74      0.68      0.70      2202\n",
      "weighted avg       0.78      0.79      0.77      2202\n",
      "\n"
     ]
    }
   ],
   "source": [
    "print(metrics.accuracy_score(Y2_test, predictedKNN2))\n",
    "print(metrics.roc_auc_score(Y2_test, probsKNN2[:, 1]))\n",
    "print(metrics.confusion_matrix(Y1_test, predictedKNN2))\n",
    "print(metrics.classification_report(Y1_test, predictedKNN2))"
   ]
  },
  {
   "cell_type": "code",
   "execution_count": 56,
   "metadata": {},
   "outputs": [
    {
     "name": "stdout",
     "output_type": "stream",
     "text": [
      "0.7565849227974568\n",
      "0.7584316159735156\n",
      "[[1495  116]\n",
      " [ 420  171]]\n",
      "              precision    recall  f1-score   support\n",
      "\n",
      "           0       0.78      0.93      0.85      1611\n",
      "           1       0.60      0.29      0.39       591\n",
      "\n",
      "    accuracy                           0.76      2202\n",
      "   macro avg       0.69      0.61      0.62      2202\n",
      "weighted avg       0.73      0.76      0.72      2202\n",
      "\n"
     ]
    }
   ],
   "source": [
    "print(metrics.accuracy_score(Y2_test, predicted2))\n",
    "print(metrics.roc_auc_score(Y2_test, probs2[:, 1]))\n",
    "print(metrics.confusion_matrix(Y1_test, predicted2))\n",
    "print(metrics.classification_report(Y1_test, predicted2))"
   ]
  },
  {
   "cell_type": "markdown",
   "metadata": {},
   "source": [
    "According to the result above, we can see that the accuracy of model 1 is higher than model 2. And model 1's Accuracy, Precision, and F1 score all exceed those of Model 2. So model 1 is our preferred model this time."
   ]
  },
  {
   "cell_type": "markdown",
   "metadata": {},
   "source": [
    "**Cross-Validation**"
   ]
  },
  {
   "cell_type": "code",
   "execution_count": 178,
   "metadata": {},
   "outputs": [
    {
     "name": "stdout",
     "output_type": "stream",
     "text": [
      "[0.76730988 0.79455165 0.79682179 0.77979569 0.80022701 0.77866061\n",
      " 0.7875     0.76704545 0.80227273 0.81022727]\n",
      "0.7884412083376329\n"
     ]
    }
   ],
   "source": [
    "# load the cross_val_score function from the sklearn.model_selection module\n",
    "from sklearn.model_selection import cross_val_score\n",
    "# using 10-fold cross-validation to evaluate the model\n",
    "scores = cross_val_score(KNN_Classifier1, X1_train, Y1_train, scoring='accuracy', cv=10)\n",
    "print(scores)\n",
    "print (scores.mean())"
   ]
  },
  {
   "cell_type": "markdown",
   "metadata": {},
   "source": [
    "It's accuracy performing nearly at 78.84%"
   ]
  },
  {
   "cell_type": "markdown",
   "metadata": {},
   "source": [
    "## Conclusions"
   ]
  },
  {
   "cell_type": "markdown",
   "metadata": {},
   "source": [
    "According to the different results of our 2 assignments with the same dataset, we learned the importance of EDA and data preparation in the whole process. The last time we didn't finish the data preparation appropriately causes getting an inaccurate result. We will try our best to finish the EDA and data preparation in the future. And the accuracy of model 1 can also be improved by changing attributes that have higher correlations with the 'TARGET' and better data preparation."
   ]
  }
 ],
 "metadata": {
  "kernelspec": {
   "display_name": "Python 3",
   "language": "python",
   "name": "python3"
  },
  "language_info": {
   "codemirror_mode": {
    "name": "ipython",
    "version": 3
   },
   "file_extension": ".py",
   "mimetype": "text/x-python",
   "name": "python",
   "nbconvert_exporter": "python",
   "pygments_lexer": "ipython3",
   "version": "3.8.3"
  }
 },
 "nbformat": 4,
 "nbformat_minor": 4
}
