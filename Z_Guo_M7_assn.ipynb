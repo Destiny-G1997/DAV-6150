{
 "cells": [
  {
   "cell_type": "markdown",
   "metadata": {},
   "source": [
    "# Logistic Regression"
   ]
  },
  {
   "cell_type": "markdown",
   "metadata": {},
   "source": [
    "**Group members: Yifeng Lin, Yuan Zheng and Ziyang Guo**"
   ]
  },
  {
   "cell_type": "markdown",
   "metadata": {},
   "source": [
    "## Introduction:  \n",
    "The insurance industry always wants to broaden its relationships with existing customers. In this assignment, we will help the insurance company to use the output of such a logistic regression model in an attempt to improve its customer retention and sales practices base on the dataset we have. The dataset is comprised of more than 14,000 observations of 1 response variable and 14 explanatory variables."
   ]
  },
  {
   "cell_type": "markdown",
   "metadata": {},
   "source": [
    "## Data Summary:  \n",
    "    1.ID            Unique customer identifier  \n",
    "    2.TRAGET        Indicator of buying the new product (0 = no, 1= yes)  \n",
    "    3.Loyalty       Loyalty level, from low to high (0 to 3), 99 = unclassified\n",
    "    4.Age           Age in years\n",
    "    5.City          Unique code per city\n",
    "    6.Age_p         Age of partner in years  \n",
    "    7.LOR           Length of relationship in years  \n",
    "    8.LOR_m         Length of relationship in months\n",
    "    9.Prod_A        Bought Product A (0=no, 1=yes)  \n",
    "    10.Type_A       Type of product A  \n",
    "    11.Turnover_A   Amount of money spent on Product A  \n",
    "    12.Prod_B       Bought Product B (0=no, 1=yes)  \n",
    "    13.Type_B       Type of product B  \n",
    "    14.Turnover_B   Amount of money spent on Product B  \n",
    "    15.Contract     Type of contract"
   ]
  },
  {
   "cell_type": "code",
   "execution_count": 122,
   "metadata": {},
   "outputs": [],
   "source": [
    "# load the pandas & numpy libraries and matplotlib and seaborn\n",
    "import pandas as pd\n",
    "import numpy as np\n",
    "import matplotlib.pyplot as plt\n",
    "import seaborn as sns"
   ]
  },
  {
   "cell_type": "code",
   "execution_count": 123,
   "metadata": {},
   "outputs": [
    {
     "data": {
      "text/html": [
       "<div>\n",
       "<style scoped>\n",
       "    .dataframe tbody tr th:only-of-type {\n",
       "        vertical-align: middle;\n",
       "    }\n",
       "\n",
       "    .dataframe tbody tr th {\n",
       "        vertical-align: top;\n",
       "    }\n",
       "\n",
       "    .dataframe thead th {\n",
       "        text-align: right;\n",
       "    }\n",
       "</style>\n",
       "<table border=\"1\" class=\"dataframe\">\n",
       "  <thead>\n",
       "    <tr style=\"text-align: right;\">\n",
       "      <th></th>\n",
       "      <th>TARGET</th>\n",
       "      <th>loyalty</th>\n",
       "      <th>ID</th>\n",
       "      <th>age</th>\n",
       "      <th>city</th>\n",
       "      <th>LOR</th>\n",
       "      <th>prod_A</th>\n",
       "      <th>type_A</th>\n",
       "      <th>type_B</th>\n",
       "      <th>prod_B</th>\n",
       "      <th>turnover_A</th>\n",
       "      <th>turnover_B</th>\n",
       "      <th>contract</th>\n",
       "      <th>age_P</th>\n",
       "      <th>lor_M</th>\n",
       "    </tr>\n",
       "  </thead>\n",
       "  <tbody>\n",
       "    <tr>\n",
       "      <th>0</th>\n",
       "      <td>Y</td>\n",
       "      <td>99</td>\n",
       "      <td>77</td>\n",
       "      <td>66</td>\n",
       "      <td>2</td>\n",
       "      <td>0</td>\n",
       "      <td>0</td>\n",
       "      <td>0</td>\n",
       "      <td>0</td>\n",
       "      <td>0</td>\n",
       "      <td>333.561114</td>\n",
       "      <td>264.721010</td>\n",
       "      <td>2</td>\n",
       "      <td>66</td>\n",
       "      <td>3</td>\n",
       "    </tr>\n",
       "    <tr>\n",
       "      <th>1</th>\n",
       "      <td>Y</td>\n",
       "      <td>1</td>\n",
       "      <td>159</td>\n",
       "      <td>45</td>\n",
       "      <td>2</td>\n",
       "      <td>3</td>\n",
       "      <td>1</td>\n",
       "      <td>3</td>\n",
       "      <td>3</td>\n",
       "      <td>1</td>\n",
       "      <td>394.735699</td>\n",
       "      <td>284.904978</td>\n",
       "      <td>2</td>\n",
       "      <td>45</td>\n",
       "      <td>39</td>\n",
       "    </tr>\n",
       "    <tr>\n",
       "      <th>2</th>\n",
       "      <td>Y</td>\n",
       "      <td>1</td>\n",
       "      <td>220</td>\n",
       "      <td>42</td>\n",
       "      <td>2</td>\n",
       "      <td>2</td>\n",
       "      <td>1</td>\n",
       "      <td>3</td>\n",
       "      <td>6</td>\n",
       "      <td>1</td>\n",
       "      <td>342.180990</td>\n",
       "      <td>1175.589721</td>\n",
       "      <td>2</td>\n",
       "      <td>42</td>\n",
       "      <td>27</td>\n",
       "    </tr>\n",
       "    <tr>\n",
       "      <th>3</th>\n",
       "      <td>Y</td>\n",
       "      <td>99</td>\n",
       "      <td>303</td>\n",
       "      <td>31</td>\n",
       "      <td>2</td>\n",
       "      <td>0</td>\n",
       "      <td>0</td>\n",
       "      <td>0</td>\n",
       "      <td>0</td>\n",
       "      <td>0</td>\n",
       "      <td>453.757916</td>\n",
       "      <td>242.341754</td>\n",
       "      <td>2</td>\n",
       "      <td>31</td>\n",
       "      <td>3</td>\n",
       "    </tr>\n",
       "    <tr>\n",
       "      <th>4</th>\n",
       "      <td>Y</td>\n",
       "      <td>99</td>\n",
       "      <td>306</td>\n",
       "      <td>62</td>\n",
       "      <td>2</td>\n",
       "      <td>0</td>\n",
       "      <td>0</td>\n",
       "      <td>0</td>\n",
       "      <td>0</td>\n",
       "      <td>0</td>\n",
       "      <td>384.577469</td>\n",
       "      <td>287.008370</td>\n",
       "      <td>2</td>\n",
       "      <td>62</td>\n",
       "      <td>3</td>\n",
       "    </tr>\n",
       "  </tbody>\n",
       "</table>\n",
       "</div>"
      ],
      "text/plain": [
       "  TARGET  loyalty   ID  age  city  LOR  prod_A  type_A  type_B  prod_B  \\\n",
       "0      Y       99   77   66     2    0       0       0       0       0   \n",
       "1      Y        1  159   45     2    3       1       3       3       1   \n",
       "2      Y        1  220   42     2    2       1       3       6       1   \n",
       "3      Y       99  303   31     2    0       0       0       0       0   \n",
       "4      Y       99  306   62     2    0       0       0       0       0   \n",
       "\n",
       "   turnover_A   turnover_B  contract  age_P  lor_M  \n",
       "0  333.561114   264.721010         2     66      3  \n",
       "1  394.735699   284.904978         2     45     39  \n",
       "2  342.180990  1175.589721         2     42     27  \n",
       "3  453.757916   242.341754         2     31      3  \n",
       "4  384.577469   287.008370         2     62      3  "
      ]
     },
     "execution_count": 123,
     "metadata": {},
     "output_type": "execute_result"
    }
   ],
   "source": [
    "data = pd.read_csv('https://raw.githubusercontent.com/Destiny-G1997/DAV-6150/main/M7_Data.csv')\n",
    "data.head()"
   ]
  },
  {
   "cell_type": "markdown",
   "metadata": {},
   "source": [
    "## Exploratory Data Analysis"
   ]
  },
  {
   "cell_type": "code",
   "execution_count": 124,
   "metadata": {},
   "outputs": [
    {
     "data": {
      "text/plain": [
       "(14016, 15)"
      ]
     },
     "execution_count": 124,
     "metadata": {},
     "output_type": "execute_result"
    }
   ],
   "source": [
    "data.shape"
   ]
  },
  {
   "cell_type": "code",
   "execution_count": 125,
   "metadata": {},
   "outputs": [
    {
     "data": {
      "text/plain": [
       "TARGET         object\n",
       "loyalty         int64\n",
       "ID              int64\n",
       "age             int64\n",
       "city            int64\n",
       "LOR             int64\n",
       "prod_A          int64\n",
       "type_A          int64\n",
       "type_B          int64\n",
       "prod_B          int64\n",
       "turnover_A    float64\n",
       "turnover_B    float64\n",
       "contract        int64\n",
       "age_P           int64\n",
       "lor_M           int64\n",
       "dtype: object"
      ]
     },
     "execution_count": 125,
     "metadata": {},
     "output_type": "execute_result"
    }
   ],
   "source": [
    "data.dtypes"
   ]
  },
  {
   "cell_type": "code",
   "execution_count": 126,
   "metadata": {},
   "outputs": [],
   "source": [
    "# replace Y to 1 and replace N to 0\n",
    "data['TARGET'] = data['TARGET'].replace(\"Y\",1)\n",
    "data['TARGET'] = data['TARGET'].replace(\"N\",0)"
   ]
  },
  {
   "cell_type": "code",
   "execution_count": 127,
   "metadata": {},
   "outputs": [
    {
     "data": {
      "text/plain": [
       "TARGET          int64\n",
       "loyalty         int64\n",
       "ID              int64\n",
       "age             int64\n",
       "city            int64\n",
       "LOR             int64\n",
       "prod_A          int64\n",
       "type_A          int64\n",
       "type_B          int64\n",
       "prod_B          int64\n",
       "turnover_A    float64\n",
       "turnover_B    float64\n",
       "contract        int64\n",
       "age_P           int64\n",
       "lor_M           int64\n",
       "dtype: object"
      ]
     },
     "execution_count": 127,
     "metadata": {},
     "output_type": "execute_result"
    }
   ],
   "source": [
    "data.dtypes"
   ]
  },
  {
   "cell_type": "code",
   "execution_count": 128,
   "metadata": {},
   "outputs": [
    {
     "data": {
      "text/html": [
       "<div>\n",
       "<style scoped>\n",
       "    .dataframe tbody tr th:only-of-type {\n",
       "        vertical-align: middle;\n",
       "    }\n",
       "\n",
       "    .dataframe tbody tr th {\n",
       "        vertical-align: top;\n",
       "    }\n",
       "\n",
       "    .dataframe thead th {\n",
       "        text-align: right;\n",
       "    }\n",
       "</style>\n",
       "<table border=\"1\" class=\"dataframe\">\n",
       "  <thead>\n",
       "    <tr style=\"text-align: right;\">\n",
       "      <th></th>\n",
       "      <th>loyalty</th>\n",
       "      <th>ID</th>\n",
       "      <th>age</th>\n",
       "      <th>city</th>\n",
       "      <th>LOR</th>\n",
       "      <th>prod_A</th>\n",
       "      <th>type_A</th>\n",
       "      <th>type_B</th>\n",
       "      <th>prod_B</th>\n",
       "      <th>turnover_A</th>\n",
       "      <th>turnover_B</th>\n",
       "      <th>contract</th>\n",
       "      <th>age_P</th>\n",
       "      <th>lor_M</th>\n",
       "    </tr>\n",
       "    <tr>\n",
       "      <th>TARGET</th>\n",
       "      <th></th>\n",
       "      <th></th>\n",
       "      <th></th>\n",
       "      <th></th>\n",
       "      <th></th>\n",
       "      <th></th>\n",
       "      <th></th>\n",
       "      <th></th>\n",
       "      <th></th>\n",
       "      <th></th>\n",
       "      <th></th>\n",
       "      <th></th>\n",
       "      <th></th>\n",
       "      <th></th>\n",
       "    </tr>\n",
       "  </thead>\n",
       "  <tbody>\n",
       "    <tr>\n",
       "      <th>0</th>\n",
       "      <td>39.791625</td>\n",
       "      <td>8366.446750</td>\n",
       "      <td>33.027125</td>\n",
       "      <td>-747.257125</td>\n",
       "      <td>1.081375</td>\n",
       "      <td>0.673000</td>\n",
       "      <td>2.025000</td>\n",
       "      <td>2.411625</td>\n",
       "      <td>0.74475</td>\n",
       "      <td>360.368141</td>\n",
       "      <td>371.263176</td>\n",
       "      <td>2.0</td>\n",
       "      <td>33.027125</td>\n",
       "      <td>15.976500</td>\n",
       "    </tr>\n",
       "    <tr>\n",
       "      <th>1</th>\n",
       "      <td>64.464428</td>\n",
       "      <td>76643.175864</td>\n",
       "      <td>39.680519</td>\n",
       "      <td>-662.669548</td>\n",
       "      <td>0.720080</td>\n",
       "      <td>0.348737</td>\n",
       "      <td>1.053191</td>\n",
       "      <td>1.263630</td>\n",
       "      <td>0.40625</td>\n",
       "      <td>404.152250</td>\n",
       "      <td>271.932769</td>\n",
       "      <td>2.0</td>\n",
       "      <td>39.680519</td>\n",
       "      <td>11.640957</td>\n",
       "    </tr>\n",
       "  </tbody>\n",
       "</table>\n",
       "</div>"
      ],
      "text/plain": [
       "          loyalty            ID        age        city       LOR    prod_A  \\\n",
       "TARGET                                                                       \n",
       "0       39.791625   8366.446750  33.027125 -747.257125  1.081375  0.673000   \n",
       "1       64.464428  76643.175864  39.680519 -662.669548  0.720080  0.348737   \n",
       "\n",
       "          type_A    type_B   prod_B  turnover_A  turnover_B  contract  \\\n",
       "TARGET                                                                  \n",
       "0       2.025000  2.411625  0.74475  360.368141  371.263176       2.0   \n",
       "1       1.053191  1.263630  0.40625  404.152250  271.932769       2.0   \n",
       "\n",
       "            age_P      lor_M  \n",
       "TARGET                        \n",
       "0       33.027125  15.976500  \n",
       "1       39.680519  11.640957  "
      ]
     },
     "execution_count": 128,
     "metadata": {},
     "output_type": "execute_result"
    }
   ],
   "source": [
    "data.groupby('TARGET').mean()"
   ]
  },
  {
   "cell_type": "markdown",
   "metadata": {},
   "source": [
    "we can see that the people who are older will prefer to buy the new insurance product. As for the 'LOR' and 'lor_n', we can know that if you spent less time in this relationship, you might be more likely to buy the new product."
   ]
  },
  {
   "cell_type": "code",
   "execution_count": 129,
   "metadata": {},
   "outputs": [
    {
     "data": {
      "text/plain": [
       "TARGET        0\n",
       "loyalty       0\n",
       "ID            0\n",
       "age           0\n",
       "city          0\n",
       "LOR           0\n",
       "prod_A        0\n",
       "type_A        0\n",
       "type_B        0\n",
       "prod_B        0\n",
       "turnover_A    0\n",
       "turnover_B    0\n",
       "contract      0\n",
       "age_P         0\n",
       "lor_M         0\n",
       "dtype: int64"
      ]
     },
     "execution_count": 129,
     "metadata": {},
     "output_type": "execute_result"
    }
   ],
   "source": [
    "#check if there are none values.\n",
    "data.isnull().sum()"
   ]
  },
  {
   "cell_type": "markdown",
   "metadata": {},
   "source": [
    "We need to set up two groups to separate categorical data and numerical data"
   ]
  },
  {
   "cell_type": "code",
   "execution_count": 130,
   "metadata": {},
   "outputs": [],
   "source": [
    "data_num = data[['age','age_P','turnover_A','turnover_B']]"
   ]
  },
  {
   "cell_type": "code",
   "execution_count": 131,
   "metadata": {},
   "outputs": [],
   "source": [
    "data_cat= data[['loyalty','city','LOR','lor_M','prod_A','type_A','prod_B','type_B','TARGET']]"
   ]
  },
  {
   "cell_type": "code",
   "execution_count": 132,
   "metadata": {},
   "outputs": [],
   "source": [
    "# turn the name of columns into list\n",
    "column_num=data_num.columns.to_list()\n",
    "column_cat=data_cat.columns.to_list()"
   ]
  },
  {
   "cell_type": "code",
   "execution_count": 133,
   "metadata": {},
   "outputs": [
    {
     "name": "stderr",
     "output_type": "stream",
     "text": [
      "D:\\python\\lib\\site-packages\\seaborn\\_decorators.py:36: FutureWarning: Pass the following variable as a keyword arg: x. From version 0.12, the only valid positional argument will be `data`, and passing other arguments without an explicit keyword will result in an error or misinterpretation.\n",
      "  warnings.warn(\n",
      "D:\\python\\lib\\site-packages\\seaborn\\_decorators.py:36: FutureWarning: Pass the following variable as a keyword arg: x. From version 0.12, the only valid positional argument will be `data`, and passing other arguments without an explicit keyword will result in an error or misinterpretation.\n",
      "  warnings.warn(\n",
      "D:\\python\\lib\\site-packages\\seaborn\\_decorators.py:36: FutureWarning: Pass the following variable as a keyword arg: x. From version 0.12, the only valid positional argument will be `data`, and passing other arguments without an explicit keyword will result in an error or misinterpretation.\n",
      "  warnings.warn(\n",
      "D:\\python\\lib\\site-packages\\seaborn\\_decorators.py:36: FutureWarning: Pass the following variable as a keyword arg: x. From version 0.12, the only valid positional argument will be `data`, and passing other arguments without an explicit keyword will result in an error or misinterpretation.\n",
      "  warnings.warn(\n"
     ]
    },
    {
     "data": {
      "image/png": "[encoded data removed]",
      "text/plain": [
       "<Figure size 1080x1440 with 8 Axes>"
      ]
     },
     "metadata": {
      "needs_background": "light"
     },
     "output_type": "display_data"
    }
   ],
   "source": [
    "#show histogram and boxplot of each attribute in the numerical dataset\n",
    "fig=plt.figure(figsize=(15,20))\n",
    "for i in range(4):\n",
    "    n=2*i\n",
    "    plt.subplot(12,4,n+1)\n",
    "    sns.boxplot(data_num[column_num[i]])\n",
    "    plt.subplot(12,4,n+2)\n",
    "    plt.hist(data_num[column_num[i]])\n",
    "    \n",
    "plt.tight_layout()"
   ]
  },
  {
   "cell_type": "markdown",
   "metadata": {},
   "source": [
    "According to the above charts, we can see the 'turnover_A' and 'turnover_B' have a lot of outliers, so we need to do the box-cox to normalize them. The age,age_P are Right-skewed Distribution observed, they all have right outliers."
   ]
  },
  {
   "cell_type": "code",
   "execution_count": 134,
   "metadata": {},
   "outputs": [
    {
     "data": {
      "image/png": "[encoded data removed]",
      "text/plain": [
       "<Figure size 1080x1080 with 9 Axes>"
      ]
     },
     "metadata": {
      "needs_background": "light"
     },
     "output_type": "display_data"
    }
   ],
   "source": [
    "# show barplot of each attribute in the categorical dataset\n",
    "fig=plt.figure(figsize=(15,15))\n",
    "for i in range(9):\n",
    "    plt.subplot(3,4,i+1)\n",
    "    data_cat[column_cat[i]].value_counts().plot.bar(title = \"Freq Dist\")\n",
    "    plt.xlabel(column_cat[i])\n",
    "plt.tight_layout()"
   ]
  },
  {
   "cell_type": "code",
   "execution_count": 86,
   "metadata": {},
   "outputs": [
    {
     "data": {
      "text/plain": [
       "2      13720\n",
       "1         28\n",
       "0         26\n",
       "8         21\n",
       "9         20\n",
       "       ...  \n",
       "127        1\n",
       "131        1\n",
       "115        1\n",
       "107        1\n",
       "187        1\n",
       "Name: city, Length: 65, dtype: int64"
      ]
     },
     "execution_count": 86,
     "metadata": {},
     "output_type": "execute_result"
    }
   ],
   "source": [
    "data['city'].value_counts()"
   ]
  },
  {
   "cell_type": "markdown",
   "metadata": {},
   "source": [
    "- In the chart of 'loyalty', the '99' appears mostly followed by '3', '1', and '2', '0' appears the lowest number of times.\n",
    "- In the LOR, the '1' appears most and '6' appears least.\n",
    "- In the Lor_m, the '15' appears most and '75' appears least\n",
    "- In the prod_A, there are nearly 7500 people who have bought product A and there are about 6500 people who have not.\n",
    "- In the type_A, there are nearly 7470 people have bought the type '3', and only 30 people bought the type '6'.\n",
    "- In the prod_B, there are nearly 8400 people have bought product B and there are about 5600 people who have not.\n",
    "- In the type_B, type 3 appears the most number, and type 9 appears the least number.\n",
    "- In the TARGET, we find that there are nearly 6000 people have bought the new product and other 8000 have not.\n",
    "- In the city, most cities gathered at the '2'.\n"
   ]
  },
  {
   "cell_type": "markdown",
   "metadata": {},
   "source": [
    "## Data Preparation"
   ]
  },
  {
   "cell_type": "markdown",
   "metadata": {},
   "source": [
    "For data preparation, we transfer the 'TARGET' to dummy variable. And we will apply box cox function to finish normalization for 'turnover A' and 'turnover B'. If there are any missing values, we will apply KNN the fill missing values."
   ]
  },
  {
   "cell_type": "code",
   "execution_count": 87,
   "metadata": {},
   "outputs": [
    {
     "data": {
      "text/html": [
       "<div>\n",
       "<style scoped>\n",
       "    .dataframe tbody tr th:only-of-type {\n",
       "        vertical-align: middle;\n",
       "    }\n",
       "\n",
       "    .dataframe tbody tr th {\n",
       "        vertical-align: top;\n",
       "    }\n",
       "\n",
       "    .dataframe thead th {\n",
       "        text-align: right;\n",
       "    }\n",
       "</style>\n",
       "<table border=\"1\" class=\"dataframe\">\n",
       "  <thead>\n",
       "    <tr style=\"text-align: right;\">\n",
       "      <th></th>\n",
       "      <th>TARGET</th>\n",
       "      <th>loyalty</th>\n",
       "      <th>ID</th>\n",
       "      <th>age</th>\n",
       "      <th>city</th>\n",
       "      <th>LOR</th>\n",
       "      <th>prod_A</th>\n",
       "      <th>type_A</th>\n",
       "      <th>type_B</th>\n",
       "      <th>prod_B</th>\n",
       "      <th>turnover_A</th>\n",
       "      <th>turnover_B</th>\n",
       "      <th>contract</th>\n",
       "      <th>age_P</th>\n",
       "      <th>lor_M</th>\n",
       "    </tr>\n",
       "  </thead>\n",
       "  <tbody>\n",
       "    <tr>\n",
       "      <th>count</th>\n",
       "      <td>14016.000000</td>\n",
       "      <td>14016.000000</td>\n",
       "      <td>14016.000000</td>\n",
       "      <td>14016.000000</td>\n",
       "      <td>14016.000000</td>\n",
       "      <td>14016.000000</td>\n",
       "      <td>14016.000000</td>\n",
       "      <td>14016.000000</td>\n",
       "      <td>14016.000000</td>\n",
       "      <td>14016.000000</td>\n",
       "      <td>14016.000000</td>\n",
       "      <td>14016.000000</td>\n",
       "      <td>14016.0</td>\n",
       "      <td>14016.000000</td>\n",
       "      <td>14016.000000</td>\n",
       "    </tr>\n",
       "    <tr>\n",
       "      <th>mean</th>\n",
       "      <td>0.429224</td>\n",
       "      <td>50.381778</td>\n",
       "      <td>37672.440068</td>\n",
       "      <td>35.882920</td>\n",
       "      <td>-710.950128</td>\n",
       "      <td>0.926299</td>\n",
       "      <td>0.533818</td>\n",
       "      <td>1.607877</td>\n",
       "      <td>1.918878</td>\n",
       "      <td>0.599458</td>\n",
       "      <td>379.161320</td>\n",
       "      <td>328.628207</td>\n",
       "      <td>2.0</td>\n",
       "      <td>35.882920</td>\n",
       "      <td>14.115582</td>\n",
       "    </tr>\n",
       "    <tr>\n",
       "      <th>std</th>\n",
       "      <td>0.494983</td>\n",
       "      <td>48.471790</td>\n",
       "      <td>44855.639209</td>\n",
       "      <td>12.974634</td>\n",
       "      <td>26702.329184</td>\n",
       "      <td>0.965212</td>\n",
       "      <td>0.498873</td>\n",
       "      <td>1.508991</td>\n",
       "      <td>1.686038</td>\n",
       "      <td>0.490026</td>\n",
       "      <td>92.612207</td>\n",
       "      <td>475.616525</td>\n",
       "      <td>0.0</td>\n",
       "      <td>12.974634</td>\n",
       "      <td>11.582550</td>\n",
       "    </tr>\n",
       "    <tr>\n",
       "      <th>min</th>\n",
       "      <td>0.000000</td>\n",
       "      <td>0.000000</td>\n",
       "      <td>1.000000</td>\n",
       "      <td>5.000000</td>\n",
       "      <td>-999999.000000</td>\n",
       "      <td>0.000000</td>\n",
       "      <td>0.000000</td>\n",
       "      <td>0.000000</td>\n",
       "      <td>0.000000</td>\n",
       "      <td>0.000000</td>\n",
       "      <td>300.095909</td>\n",
       "      <td>191.962852</td>\n",
       "      <td>2.0</td>\n",
       "      <td>5.000000</td>\n",
       "      <td>3.000000</td>\n",
       "    </tr>\n",
       "    <tr>\n",
       "      <th>25%</th>\n",
       "      <td>0.000000</td>\n",
       "      <td>2.000000</td>\n",
       "      <td>6741.500000</td>\n",
       "      <td>25.000000</td>\n",
       "      <td>2.000000</td>\n",
       "      <td>0.000000</td>\n",
       "      <td>0.000000</td>\n",
       "      <td>0.000000</td>\n",
       "      <td>0.000000</td>\n",
       "      <td>0.000000</td>\n",
       "      <td>334.919412</td>\n",
       "      <td>219.406925</td>\n",
       "      <td>2.0</td>\n",
       "      <td>25.000000</td>\n",
       "      <td>3.000000</td>\n",
       "    </tr>\n",
       "    <tr>\n",
       "      <th>50%</th>\n",
       "      <td>0.000000</td>\n",
       "      <td>3.000000</td>\n",
       "      <td>13514.500000</td>\n",
       "      <td>33.000000</td>\n",
       "      <td>2.000000</td>\n",
       "      <td>1.000000</td>\n",
       "      <td>1.000000</td>\n",
       "      <td>3.000000</td>\n",
       "      <td>3.000000</td>\n",
       "      <td>1.000000</td>\n",
       "      <td>367.891493</td>\n",
       "      <td>237.656757</td>\n",
       "      <td>2.0</td>\n",
       "      <td>33.000000</td>\n",
       "      <td>15.000000</td>\n",
       "    </tr>\n",
       "    <tr>\n",
       "      <th>75%</th>\n",
       "      <td>1.000000</td>\n",
       "      <td>99.000000</td>\n",
       "      <td>62738.000000</td>\n",
       "      <td>43.000000</td>\n",
       "      <td>2.000000</td>\n",
       "      <td>1.000000</td>\n",
       "      <td>1.000000</td>\n",
       "      <td>3.000000</td>\n",
       "      <td>3.000000</td>\n",
       "      <td>1.000000</td>\n",
       "      <td>399.744923</td>\n",
       "      <td>264.131538</td>\n",
       "      <td>2.0</td>\n",
       "      <td>43.000000</td>\n",
       "      <td>15.000000</td>\n",
       "    </tr>\n",
       "    <tr>\n",
       "      <th>max</th>\n",
       "      <td>1.000000</td>\n",
       "      <td>99.000000</td>\n",
       "      <td>151811.000000</td>\n",
       "      <td>102.000000</td>\n",
       "      <td>235.000000</td>\n",
       "      <td>6.000000</td>\n",
       "      <td>1.000000</td>\n",
       "      <td>6.000000</td>\n",
       "      <td>9.000000</td>\n",
       "      <td>1.000000</td>\n",
       "      <td>5568.784139</td>\n",
       "      <td>12249.084770</td>\n",
       "      <td>2.0</td>\n",
       "      <td>102.000000</td>\n",
       "      <td>75.000000</td>\n",
       "    </tr>\n",
       "  </tbody>\n",
       "</table>\n",
       "</div>"
      ],
      "text/plain": [
       "             TARGET       loyalty             ID           age           city  \\\n",
       "count  14016.000000  14016.000000   14016.000000  14016.000000   14016.000000   \n",
       "mean       0.429224     50.381778   37672.440068     35.882920    -710.950128   \n",
       "std        0.494983     48.471790   44855.639209     12.974634   26702.329184   \n",
       "min        0.000000      0.000000       1.000000      5.000000 -999999.000000   \n",
       "25%        0.000000      2.000000    6741.500000     25.000000       2.000000   \n",
       "50%        0.000000      3.000000   13514.500000     33.000000       2.000000   \n",
       "75%        1.000000     99.000000   62738.000000     43.000000       2.000000   \n",
       "max        1.000000     99.000000  151811.000000    102.000000     235.000000   \n",
       "\n",
       "                LOR        prod_A        type_A        type_B        prod_B  \\\n",
       "count  14016.000000  14016.000000  14016.000000  14016.000000  14016.000000   \n",
       "mean       0.926299      0.533818      1.607877      1.918878      0.599458   \n",
       "std        0.965212      0.498873      1.508991      1.686038      0.490026   \n",
       "min        0.000000      0.000000      0.000000      0.000000      0.000000   \n",
       "25%        0.000000      0.000000      0.000000      0.000000      0.000000   \n",
       "50%        1.000000      1.000000      3.000000      3.000000      1.000000   \n",
       "75%        1.000000      1.000000      3.000000      3.000000      1.000000   \n",
       "max        6.000000      1.000000      6.000000      9.000000      1.000000   \n",
       "\n",
       "         turnover_A    turnover_B  contract         age_P         lor_M  \n",
       "count  14016.000000  14016.000000   14016.0  14016.000000  14016.000000  \n",
       "mean     379.161320    328.628207       2.0     35.882920     14.115582  \n",
       "std       92.612207    475.616525       0.0     12.974634     11.582550  \n",
       "min      300.095909    191.962852       2.0      5.000000      3.000000  \n",
       "25%      334.919412    219.406925       2.0     25.000000      3.000000  \n",
       "50%      367.891493    237.656757       2.0     33.000000     15.000000  \n",
       "75%      399.744923    264.131538       2.0     43.000000     15.000000  \n",
       "max     5568.784139  12249.084770       2.0    102.000000     75.000000  "
      ]
     },
     "execution_count": 87,
     "metadata": {},
     "output_type": "execute_result"
    }
   ],
   "source": [
    "# Load boxcox function from scipy.stats\n",
    "from scipy.stats import boxcox\n",
    "from scipy import stats\n",
    "data.describe()"
   ]
  },
  {
   "cell_type": "code",
   "execution_count": 88,
   "metadata": {},
   "outputs": [
    {
     "data": {
      "text/html": [
       "<div>\n",
       "<style scoped>\n",
       "    .dataframe tbody tr th:only-of-type {\n",
       "        vertical-align: middle;\n",
       "    }\n",
       "\n",
       "    .dataframe tbody tr th {\n",
       "        vertical-align: top;\n",
       "    }\n",
       "\n",
       "    .dataframe thead th {\n",
       "        text-align: right;\n",
       "    }\n",
       "</style>\n",
       "<table border=\"1\" class=\"dataframe\">\n",
       "  <thead>\n",
       "    <tr style=\"text-align: right;\">\n",
       "      <th></th>\n",
       "      <th>TARGET</th>\n",
       "      <th>loyalty</th>\n",
       "      <th>ID</th>\n",
       "      <th>age</th>\n",
       "      <th>city</th>\n",
       "      <th>LOR</th>\n",
       "      <th>prod_A</th>\n",
       "      <th>type_A</th>\n",
       "      <th>type_B</th>\n",
       "      <th>prod_B</th>\n",
       "      <th>turnover_A</th>\n",
       "      <th>turnover_B</th>\n",
       "      <th>contract</th>\n",
       "      <th>age_P</th>\n",
       "      <th>lor_M</th>\n",
       "    </tr>\n",
       "  </thead>\n",
       "  <tbody>\n",
       "    <tr>\n",
       "      <th>0</th>\n",
       "      <td>1</td>\n",
       "      <td>99</td>\n",
       "      <td>77</td>\n",
       "      <td>66</td>\n",
       "      <td>2</td>\n",
       "      <td>0</td>\n",
       "      <td>0</td>\n",
       "      <td>0</td>\n",
       "      <td>0</td>\n",
       "      <td>0</td>\n",
       "      <td>0.439103</td>\n",
       "      <td>0.3402</td>\n",
       "      <td>2</td>\n",
       "      <td>66</td>\n",
       "      <td>3</td>\n",
       "    </tr>\n",
       "    <tr>\n",
       "      <th>1</th>\n",
       "      <td>1</td>\n",
       "      <td>1</td>\n",
       "      <td>159</td>\n",
       "      <td>45</td>\n",
       "      <td>2</td>\n",
       "      <td>3</td>\n",
       "      <td>1</td>\n",
       "      <td>3</td>\n",
       "      <td>3</td>\n",
       "      <td>1</td>\n",
       "      <td>0.439103</td>\n",
       "      <td>0.3402</td>\n",
       "      <td>2</td>\n",
       "      <td>45</td>\n",
       "      <td>39</td>\n",
       "    </tr>\n",
       "    <tr>\n",
       "      <th>2</th>\n",
       "      <td>1</td>\n",
       "      <td>1</td>\n",
       "      <td>220</td>\n",
       "      <td>42</td>\n",
       "      <td>2</td>\n",
       "      <td>2</td>\n",
       "      <td>1</td>\n",
       "      <td>3</td>\n",
       "      <td>6</td>\n",
       "      <td>1</td>\n",
       "      <td>0.439103</td>\n",
       "      <td>0.3402</td>\n",
       "      <td>2</td>\n",
       "      <td>42</td>\n",
       "      <td>27</td>\n",
       "    </tr>\n",
       "    <tr>\n",
       "      <th>3</th>\n",
       "      <td>1</td>\n",
       "      <td>99</td>\n",
       "      <td>303</td>\n",
       "      <td>31</td>\n",
       "      <td>2</td>\n",
       "      <td>0</td>\n",
       "      <td>0</td>\n",
       "      <td>0</td>\n",
       "      <td>0</td>\n",
       "      <td>0</td>\n",
       "      <td>0.439103</td>\n",
       "      <td>0.3402</td>\n",
       "      <td>2</td>\n",
       "      <td>31</td>\n",
       "      <td>3</td>\n",
       "    </tr>\n",
       "    <tr>\n",
       "      <th>4</th>\n",
       "      <td>1</td>\n",
       "      <td>99</td>\n",
       "      <td>306</td>\n",
       "      <td>62</td>\n",
       "      <td>2</td>\n",
       "      <td>0</td>\n",
       "      <td>0</td>\n",
       "      <td>0</td>\n",
       "      <td>0</td>\n",
       "      <td>0</td>\n",
       "      <td>0.439103</td>\n",
       "      <td>0.3402</td>\n",
       "      <td>2</td>\n",
       "      <td>62</td>\n",
       "      <td>3</td>\n",
       "    </tr>\n",
       "    <tr>\n",
       "      <th>...</th>\n",
       "      <td>...</td>\n",
       "      <td>...</td>\n",
       "      <td>...</td>\n",
       "      <td>...</td>\n",
       "      <td>...</td>\n",
       "      <td>...</td>\n",
       "      <td>...</td>\n",
       "      <td>...</td>\n",
       "      <td>...</td>\n",
       "      <td>...</td>\n",
       "      <td>...</td>\n",
       "      <td>...</td>\n",
       "      <td>...</td>\n",
       "      <td>...</td>\n",
       "      <td>...</td>\n",
       "    </tr>\n",
       "    <tr>\n",
       "      <th>14011</th>\n",
       "      <td>1</td>\n",
       "      <td>99</td>\n",
       "      <td>151601</td>\n",
       "      <td>30</td>\n",
       "      <td>2</td>\n",
       "      <td>0</td>\n",
       "      <td>0</td>\n",
       "      <td>0</td>\n",
       "      <td>0</td>\n",
       "      <td>0</td>\n",
       "      <td>0.439103</td>\n",
       "      <td>0.3402</td>\n",
       "      <td>2</td>\n",
       "      <td>30</td>\n",
       "      <td>3</td>\n",
       "    </tr>\n",
       "    <tr>\n",
       "      <th>14012</th>\n",
       "      <td>1</td>\n",
       "      <td>1</td>\n",
       "      <td>151634</td>\n",
       "      <td>27</td>\n",
       "      <td>2</td>\n",
       "      <td>2</td>\n",
       "      <td>1</td>\n",
       "      <td>3</td>\n",
       "      <td>3</td>\n",
       "      <td>1</td>\n",
       "      <td>0.439103</td>\n",
       "      <td>0.3402</td>\n",
       "      <td>2</td>\n",
       "      <td>27</td>\n",
       "      <td>27</td>\n",
       "    </tr>\n",
       "    <tr>\n",
       "      <th>14013</th>\n",
       "      <td>1</td>\n",
       "      <td>99</td>\n",
       "      <td>151679</td>\n",
       "      <td>26</td>\n",
       "      <td>2</td>\n",
       "      <td>0</td>\n",
       "      <td>0</td>\n",
       "      <td>0</td>\n",
       "      <td>0</td>\n",
       "      <td>0</td>\n",
       "      <td>0.439103</td>\n",
       "      <td>0.3402</td>\n",
       "      <td>2</td>\n",
       "      <td>26</td>\n",
       "      <td>3</td>\n",
       "    </tr>\n",
       "    <tr>\n",
       "      <th>14014</th>\n",
       "      <td>1</td>\n",
       "      <td>1</td>\n",
       "      <td>151804</td>\n",
       "      <td>75</td>\n",
       "      <td>2</td>\n",
       "      <td>1</td>\n",
       "      <td>1</td>\n",
       "      <td>3</td>\n",
       "      <td>3</td>\n",
       "      <td>1</td>\n",
       "      <td>0.439103</td>\n",
       "      <td>0.3402</td>\n",
       "      <td>2</td>\n",
       "      <td>75</td>\n",
       "      <td>15</td>\n",
       "    </tr>\n",
       "    <tr>\n",
       "      <th>14015</th>\n",
       "      <td>1</td>\n",
       "      <td>99</td>\n",
       "      <td>151811</td>\n",
       "      <td>61</td>\n",
       "      <td>2</td>\n",
       "      <td>0</td>\n",
       "      <td>0</td>\n",
       "      <td>0</td>\n",
       "      <td>0</td>\n",
       "      <td>0</td>\n",
       "      <td>0.439103</td>\n",
       "      <td>0.3402</td>\n",
       "      <td>2</td>\n",
       "      <td>61</td>\n",
       "      <td>3</td>\n",
       "    </tr>\n",
       "  </tbody>\n",
       "</table>\n",
       "<p>14016 rows × 15 columns</p>\n",
       "</div>"
      ],
      "text/plain": [
       "       TARGET  loyalty      ID  age  city  LOR  prod_A  type_A  type_B  \\\n",
       "0           1       99      77   66     2    0       0       0       0   \n",
       "1           1        1     159   45     2    3       1       3       3   \n",
       "2           1        1     220   42     2    2       1       3       6   \n",
       "3           1       99     303   31     2    0       0       0       0   \n",
       "4           1       99     306   62     2    0       0       0       0   \n",
       "...       ...      ...     ...  ...   ...  ...     ...     ...     ...   \n",
       "14011       1       99  151601   30     2    0       0       0       0   \n",
       "14012       1        1  151634   27     2    2       1       3       3   \n",
       "14013       1       99  151679   26     2    0       0       0       0   \n",
       "14014       1        1  151804   75     2    1       1       3       3   \n",
       "14015       1       99  151811   61     2    0       0       0       0   \n",
       "\n",
       "       prod_B  turnover_A  turnover_B  contract  age_P  lor_M  \n",
       "0           0    0.439103      0.3402         2     66      3  \n",
       "1           1    0.439103      0.3402         2     45     39  \n",
       "2           1    0.439103      0.3402         2     42     27  \n",
       "3           0    0.439103      0.3402         2     31      3  \n",
       "4           0    0.439103      0.3402         2     62      3  \n",
       "...       ...         ...         ...       ...    ...    ...  \n",
       "14011       0    0.439103      0.3402         2     30      3  \n",
       "14012       1    0.439103      0.3402         2     27     27  \n",
       "14013       0    0.439103      0.3402         2     26      3  \n",
       "14014       1    0.439103      0.3402         2     75     15  \n",
       "14015       0    0.439103      0.3402         2     61      3  \n",
       "\n",
       "[14016 rows x 15 columns]"
      ]
     },
     "execution_count": 88,
     "metadata": {},
     "output_type": "execute_result"
    }
   ],
   "source": [
    "# using boxcox to deal with some outliers and finish normalization\n",
    "x1 = data.turnover_A\n",
    "y1, fixed_x1 = stats.boxcox(x1)\n",
    "data['turnover_A'] = pd.DataFrame(y1)\n",
    "\n",
    "x2 = data.turnover_B\n",
    "y2, fixed_x2 = stats.boxcox(x2)\n",
    "data['turnover_B'] = pd.DataFrame(y2)\n",
    "\n",
    "data"
   ]
  },
  {
   "cell_type": "markdown",
   "metadata": {},
   "source": [
    "## Prepped Data Review"
   ]
  },
  {
   "cell_type": "markdown",
   "metadata": {},
   "source": [
    "After data preparation, we need to rerun EDA and to see the change"
   ]
  },
  {
   "cell_type": "code",
   "execution_count": 89,
   "metadata": {},
   "outputs": [],
   "source": [
    "#seperate categorical data and numercial data\n",
    "data_num = data[['age','age_P','turnover_A','turnover_B']]\n",
    "data_cat= data[['loyalty','city','LOR','lor_M','prod_A','type_A','prod_B','type_B','TARGET']]"
   ]
  },
  {
   "cell_type": "code",
   "execution_count": 135,
   "metadata": {},
   "outputs": [
    {
     "data": {
      "image/png": "[encoded data removed]",
      "text/plain": [
       "<Figure size 1080x1080 with 9 Axes>"
      ]
     },
     "metadata": {
      "needs_background": "light"
     },
     "output_type": "display_data"
    }
   ],
   "source": [
    "# show barplot of each attribute in the categorical dataset\n",
    "fig=plt.figure(figsize=(15,15))\n",
    "for i in range(9):\n",
    "    plt.subplot(3,4,i+1)\n",
    "    data_cat[column_cat[i]].value_counts().plot.bar(title = \"Freq Dist\")\n",
    "    plt.xlabel(column_cat[i])\n",
    "plt.tight_layout()"
   ]
  },
  {
   "cell_type": "code",
   "execution_count": 136,
   "metadata": {},
   "outputs": [
    {
     "name": "stderr",
     "output_type": "stream",
     "text": [
      "D:\\python\\lib\\site-packages\\seaborn\\_decorators.py:36: FutureWarning: Pass the following variable as a keyword arg: x. From version 0.12, the only valid positional argument will be `data`, and passing other arguments without an explicit keyword will result in an error or misinterpretation.\n",
      "  warnings.warn(\n",
      "D:\\python\\lib\\site-packages\\seaborn\\_decorators.py:36: FutureWarning: Pass the following variable as a keyword arg: x. From version 0.12, the only valid positional argument will be `data`, and passing other arguments without an explicit keyword will result in an error or misinterpretation.\n",
      "  warnings.warn(\n",
      "D:\\python\\lib\\site-packages\\seaborn\\_decorators.py:36: FutureWarning: Pass the following variable as a keyword arg: x. From version 0.12, the only valid positional argument will be `data`, and passing other arguments without an explicit keyword will result in an error or misinterpretation.\n",
      "  warnings.warn(\n",
      "D:\\python\\lib\\site-packages\\seaborn\\_decorators.py:36: FutureWarning: Pass the following variable as a keyword arg: x. From version 0.12, the only valid positional argument will be `data`, and passing other arguments without an explicit keyword will result in an error or misinterpretation.\n",
      "  warnings.warn(\n"
     ]
    },
    {
     "data": {
      "image/png": "[encoded data removed]",
      "text/plain": [
       "<Figure size 1080x1440 with 8 Axes>"
      ]
     },
     "metadata": {
      "needs_background": "light"
     },
     "output_type": "display_data"
    }
   ],
   "source": [
    "#show histogram and aboxplot of each attributes\n",
    "fig=plt.figure(figsize=(15,20))\n",
    "for i in range(4):\n",
    "    n=2*i\n",
    "    plt.subplot(12,4,n+1)\n",
    "    sns.boxplot(data_num[column_num[i]])\n",
    "    plt.subplot(12,4,n+2)\n",
    "    plt.hist(data_num[column_num[i]])\n",
    "    \n",
    "plt.tight_layout()"
   ]
  },
  {
   "cell_type": "markdown",
   "metadata": {},
   "source": [
    "After re-EDA, we can see that there are fewer outliers in 'turnover_A' and 'turnover_B' than before. We decide to set 3 groups/models based on the attributes we have right now for regression modeling afterward. According to the domain knowledge we have, we set out the first group including attributes that are relevant to product A, age of partner in years, and indicator of buying the new product (0 = no, 1= yes). The second model includes attributes that are relevant with product B, age of partner in years, and indicator of buying the new product (0 = no, 1= yes). The last model includes loyalty level, age in years, unique code per city, type of contract, length of relationship in years, and indicator of buying the new product (0 = no, 1= yes). The first and second model is to compare the correlations between 2 product-relevant attributes with TARGET. The last model is to compare the personal background info attributes' correlations to Target with product relevant info.  \n",
    "Model 1: prod_A, type_A, turnover_A, age_P, TARGET.  \n",
    "Model 2: prod_B, type_B, turnover_B, age_P, TARGET.  \n",
    "Model 3: loyalty, age, city, contract, LOR, TARGET"
   ]
  },
  {
   "cell_type": "markdown",
   "metadata": {},
   "source": [
    "## Regression Modeling"
   ]
  },
  {
   "cell_type": "markdown",
   "metadata": {},
   "source": [
    "**Model 1**"
   ]
  },
  {
   "cell_type": "code",
   "execution_count": 137,
   "metadata": {},
   "outputs": [],
   "source": [
    "# load the LogisticRegression() function from sklearn's 'linear_model' sub-library\n",
    "from sklearn.linear_model import LogisticRegression\n",
    "from sklearn.model_selection import train_test_split"
   ]
  },
  {
   "cell_type": "code",
   "execution_count": 138,
   "metadata": {},
   "outputs": [],
   "source": [
    "X1 = data[['prod_A','type_A','turnover_A','age_P']].copy()\n",
    "Y1 = data.TARGET"
   ]
  },
  {
   "cell_type": "code",
   "execution_count": 139,
   "metadata": {},
   "outputs": [],
   "source": [
    "X1_train, X1_test, Y1_train, Y1_test = train_test_split(X1,Y1, test_size = 0.2, random_state = 12)"
   ]
  },
  {
   "cell_type": "code",
   "execution_count": 140,
   "metadata": {},
   "outputs": [
    {
     "data": {
      "text/plain": [
       "((11212, 4), (11212,))"
      ]
     },
     "execution_count": 140,
     "metadata": {},
     "output_type": "execute_result"
    }
   ],
   "source": [
    "X1_train.shape, Y1_train.shape"
   ]
  },
  {
   "cell_type": "code",
   "execution_count": 141,
   "metadata": {},
   "outputs": [
    {
     "data": {
      "text/plain": [
       "4780"
      ]
     },
     "execution_count": 141,
     "metadata": {},
     "output_type": "execute_result"
    }
   ],
   "source": [
    "Y1_train.values.sum()"
   ]
  },
  {
   "cell_type": "code",
   "execution_count": 142,
   "metadata": {},
   "outputs": [
    {
     "data": {
      "text/plain": [
       "0.5736710667142347"
      ]
     },
     "execution_count": 142,
     "metadata": {},
     "output_type": "execute_result"
    }
   ],
   "source": [
    "# calculate the null error rate\n",
    "ner1 = 1 - ( Y1_train.values.sum() / Y1_train.shape[0])\n",
    "ner1"
   ]
  },
  {
   "cell_type": "code",
   "execution_count": 143,
   "metadata": {},
   "outputs": [
    {
     "data": {
      "text/plain": [
       "LogisticRegression()"
      ]
     },
     "execution_count": 143,
     "metadata": {},
     "output_type": "execute_result"
    }
   ],
   "source": [
    "# We're using the LogisticRegression() method for this model\n",
    "model1 = LogisticRegression()\n",
    "model1.fit(X1_train, Y1_train)"
   ]
  },
  {
   "cell_type": "code",
   "execution_count": 144,
   "metadata": {},
   "outputs": [
    {
     "data": {
      "text/plain": [
       "0.7303781662504459"
      ]
     },
     "execution_count": 144,
     "metadata": {},
     "output_type": "execute_result"
    }
   ],
   "source": [
    "model1.score(X1_train, Y1_train)"
   ]
  },
  {
   "cell_type": "markdown",
   "metadata": {},
   "source": [
    "The null error rate for our data is 57.3%. The model we just created has an accuracy score of 70.5%. So, our model 1 appers to be useful. "
   ]
  },
  {
   "cell_type": "markdown",
   "metadata": {},
   "source": [
    "**Model 2**"
   ]
  },
  {
   "cell_type": "code",
   "execution_count": 145,
   "metadata": {},
   "outputs": [],
   "source": [
    "X2 = data[['prod_B','type_B','turnover_B','age_P']].copy()\n",
    "Y2 = data.TARGET"
   ]
  },
  {
   "cell_type": "code",
   "execution_count": 146,
   "metadata": {},
   "outputs": [],
   "source": [
    "X2_train, X2_test, Y2_train, Y2_test = train_test_split(X2,Y2, test_size = 0.2, random_state = 12)"
   ]
  },
  {
   "cell_type": "code",
   "execution_count": 147,
   "metadata": {},
   "outputs": [
    {
     "data": {
      "text/plain": [
       "4780"
      ]
     },
     "execution_count": 147,
     "metadata": {},
     "output_type": "execute_result"
    }
   ],
   "source": [
    "Y2_train.values.sum()"
   ]
  },
  {
   "cell_type": "code",
   "execution_count": 148,
   "metadata": {},
   "outputs": [
    {
     "data": {
      "text/plain": [
       "0.5736710667142347"
      ]
     },
     "execution_count": 148,
     "metadata": {},
     "output_type": "execute_result"
    }
   ],
   "source": [
    "ner2 = 1 - ( Y2_train.values.sum() / Y2_train.shape[0])\n",
    "ner2"
   ]
  },
  {
   "cell_type": "code",
   "execution_count": 149,
   "metadata": {},
   "outputs": [
    {
     "data": {
      "text/plain": [
       "LogisticRegression()"
      ]
     },
     "execution_count": 149,
     "metadata": {},
     "output_type": "execute_result"
    }
   ],
   "source": [
    "model2 = LogisticRegression()\n",
    "model2.fit(X2_train, Y2_train)"
   ]
  },
  {
   "cell_type": "code",
   "execution_count": 150,
   "metadata": {},
   "outputs": [
    {
     "data": {
      "text/plain": [
       "0.720656439529076"
      ]
     },
     "execution_count": 150,
     "metadata": {},
     "output_type": "execute_result"
    }
   ],
   "source": [
    "model2.score(X2_train, Y2_train)"
   ]
  },
  {
   "cell_type": "markdown",
   "metadata": {},
   "source": [
    "The null error rate for our data is 57.3%. The model we just created has an accuracy score of 71.5%. So, our model 2 appers to be useful."
   ]
  },
  {
   "cell_type": "markdown",
   "metadata": {},
   "source": [
    "**Model 3**"
   ]
  },
  {
   "cell_type": "code",
   "execution_count": 151,
   "metadata": {},
   "outputs": [],
   "source": [
    "X3 = data[['loyalty', 'age', 'city', 'contract', 'LOR']].copy()\n",
    "Y3 = data.TARGET"
   ]
  },
  {
   "cell_type": "code",
   "execution_count": 152,
   "metadata": {},
   "outputs": [],
   "source": [
    "X3_train, X3_test, Y3_train, Y3_test = train_test_split(X3,Y3, test_size = 0.2, random_state = 12)"
   ]
  },
  {
   "cell_type": "code",
   "execution_count": 153,
   "metadata": {},
   "outputs": [
    {
     "data": {
      "text/plain": [
       "4780"
      ]
     },
     "execution_count": 153,
     "metadata": {},
     "output_type": "execute_result"
    }
   ],
   "source": [
    "Y3_train.values.sum()"
   ]
  },
  {
   "cell_type": "code",
   "execution_count": 154,
   "metadata": {},
   "outputs": [
    {
     "data": {
      "text/plain": [
       "0.5736710667142347"
      ]
     },
     "execution_count": 154,
     "metadata": {},
     "output_type": "execute_result"
    }
   ],
   "source": [
    "ner3 = 1 - ( Y3_train.values.sum() / Y3_train.shape[0])\n",
    "ner3"
   ]
  },
  {
   "cell_type": "code",
   "execution_count": 155,
   "metadata": {},
   "outputs": [
    {
     "data": {
      "text/plain": [
       "LogisticRegression()"
      ]
     },
     "execution_count": 155,
     "metadata": {},
     "output_type": "execute_result"
    }
   ],
   "source": [
    "model3 = LogisticRegression()\n",
    "model3.fit(X3_train, Y3_train)"
   ]
  },
  {
   "cell_type": "code",
   "execution_count": 156,
   "metadata": {},
   "outputs": [
    {
     "data": {
      "text/plain": [
       "0.6078308954691402"
      ]
     },
     "execution_count": 156,
     "metadata": {},
     "output_type": "execute_result"
    }
   ],
   "source": [
    "model3.score(X3_train, Y3_train)"
   ]
  },
  {
   "cell_type": "markdown",
   "metadata": {},
   "source": [
    "The null error rate for our data is 57.3%. The model we just created has an accuracy score of 60.7%. So, our model 3 appers to be useful."
   ]
  },
  {
   "cell_type": "markdown",
   "metadata": {},
   "source": [
    "## Select Models\n",
    "We now need to predict class labels for the test set. We will also generate the class probabilities, just to take a look."
   ]
  },
  {
   "cell_type": "code",
   "execution_count": 157,
   "metadata": {},
   "outputs": [
    {
     "data": {
      "text/plain": [
       "array([1, 0, 0, ..., 0, 1, 1], dtype=int64)"
      ]
     },
     "execution_count": 157,
     "metadata": {},
     "output_type": "execute_result"
    }
   ],
   "source": [
    "# predict class labels for the test set\n",
    "predicted1 = model1.predict(X1_test)\n",
    "predicted1"
   ]
  },
  {
   "cell_type": "code",
   "execution_count": 158,
   "metadata": {},
   "outputs": [
    {
     "data": {
      "text/plain": [
       "array([[0.40477928, 0.59522072],\n",
       "       [0.57985531, 0.42014469],\n",
       "       [0.78447505, 0.21552495],\n",
       "       ...,\n",
       "       [0.84809049, 0.15190951],\n",
       "       [0.10582273, 0.89417727],\n",
       "       [0.45011724, 0.54988276]])"
      ]
     },
     "execution_count": 158,
     "metadata": {},
     "output_type": "execute_result"
    }
   ],
   "source": [
    "# generate class probabilities\n",
    "probs1 = model1.predict_proba(X1_test)\n",
    "probs1"
   ]
  },
  {
   "cell_type": "code",
   "execution_count": 159,
   "metadata": {},
   "outputs": [
    {
     "data": {
      "text/plain": [
       "array([1, 1, 0, ..., 0, 1, 1], dtype=int64)"
      ]
     },
     "execution_count": 159,
     "metadata": {},
     "output_type": "execute_result"
    }
   ],
   "source": [
    "# predict class labels for the test set\n",
    "predicted2 = model2.predict(X2_test)\n",
    "predicted2"
   ]
  },
  {
   "cell_type": "code",
   "execution_count": 160,
   "metadata": {},
   "outputs": [
    {
     "data": {
      "text/plain": [
       "array([[0.32006788, 0.67993212],\n",
       "       [0.49954568, 0.50045432],\n",
       "       [0.62482541, 0.37517459],\n",
       "       ...,\n",
       "       [0.80670531, 0.19329469],\n",
       "       [0.2782174 , 0.7217826 ],\n",
       "       [0.48455773, 0.51544227]])"
      ]
     },
     "execution_count": 160,
     "metadata": {},
     "output_type": "execute_result"
    }
   ],
   "source": [
    "# generate class probabilities\n",
    "probs2 = model2.predict_proba(X2_test)\n",
    "probs2"
   ]
  },
  {
   "cell_type": "code",
   "execution_count": 161,
   "metadata": {},
   "outputs": [
    {
     "data": {
      "text/plain": [
       "array([1, 1, 0, ..., 1, 1, 1], dtype=int64)"
      ]
     },
     "execution_count": 161,
     "metadata": {},
     "output_type": "execute_result"
    }
   ],
   "source": [
    "# predict class labels for the test set\n",
    "predicted3 = model3.predict(X3_test)\n",
    "predicted3"
   ]
  },
  {
   "cell_type": "code",
   "execution_count": 162,
   "metadata": {},
   "outputs": [
    {
     "data": {
      "text/plain": [
       "array([[0.46337135, 0.53662865],\n",
       "       [0.42857391, 0.57142609],\n",
       "       [0.59475473, 0.40524527],\n",
       "       ...,\n",
       "       [0.42423057, 0.57576943],\n",
       "       [0.47272568, 0.52727432],\n",
       "       [0.49174217, 0.50825783]])"
      ]
     },
     "execution_count": 162,
     "metadata": {},
     "output_type": "execute_result"
    }
   ],
   "source": [
    "# generate class probabilities\n",
    "probs3 = model3.predict_proba(X3_test)\n",
    "probs3"
   ]
  },
  {
   "cell_type": "markdown",
   "metadata": {},
   "source": [
    "As you can see, the classifier is predicting a 1 (having an affair) any time the probability in the second column is greater than 0.5."
   ]
  },
  {
   "cell_type": "markdown",
   "metadata": {},
   "source": [
    "### Model Evaluation\n",
    "Now let's generate some evaluation metrics."
   ]
  },
  {
   "cell_type": "code",
   "execution_count": 163,
   "metadata": {},
   "outputs": [
    {
     "name": "stdout",
     "output_type": "stream",
     "text": [
      "0.7471469329529244\n",
      "0.821943522554653\n"
     ]
    }
   ],
   "source": [
    "# generate evaluation metrics\n",
    "from sklearn import metrics \n",
    "print(metrics.accuracy_score(Y1_test, predicted1))\n",
    "print(metrics.roc_auc_score(Y1_test, probs1[:, 1]))"
   ]
  },
  {
   "cell_type": "code",
   "execution_count": 164,
   "metadata": {},
   "outputs": [
    {
     "name": "stdout",
     "output_type": "stream",
     "text": [
      "[[1291  277]\n",
      " [ 432  804]]\n",
      "              precision    recall  f1-score   support\n",
      "\n",
      "           0       0.75      0.82      0.78      1568\n",
      "           1       0.74      0.65      0.69      1236\n",
      "\n",
      "    accuracy                           0.75      2804\n",
      "   macro avg       0.75      0.74      0.74      2804\n",
      "weighted avg       0.75      0.75      0.74      2804\n",
      "\n"
     ]
    }
   ],
   "source": [
    "print(metrics.confusion_matrix(Y1_test, predicted1))\n",
    "print(metrics.classification_report(Y1_test, predicted1))"
   ]
  },
  {
   "cell_type": "code",
   "execution_count": 165,
   "metadata": {},
   "outputs": [
    {
     "name": "stdout",
     "output_type": "stream",
     "text": [
      "0.7300285306704708\n",
      "0.7791308574400634\n"
     ]
    }
   ],
   "source": [
    "print(metrics.accuracy_score(Y2_test, predicted2))\n",
    "print(metrics.roc_auc_score(Y2_test, probs2[:, 1]))"
   ]
  },
  {
   "cell_type": "code",
   "execution_count": 166,
   "metadata": {},
   "outputs": [
    {
     "name": "stdout",
     "output_type": "stream",
     "text": [
      "[[1290  278]\n",
      " [ 479  757]]\n",
      "              precision    recall  f1-score   support\n",
      "\n",
      "           0       0.73      0.82      0.77      1568\n",
      "           1       0.73      0.61      0.67      1236\n",
      "\n",
      "    accuracy                           0.73      2804\n",
      "   macro avg       0.73      0.72      0.72      2804\n",
      "weighted avg       0.73      0.73      0.73      2804\n",
      "\n"
     ]
    }
   ],
   "source": [
    "print(metrics.confusion_matrix(Y2_test, predicted2))\n",
    "print(metrics.classification_report(Y2_test, predicted2))"
   ]
  },
  {
   "cell_type": "code",
   "execution_count": 167,
   "metadata": {},
   "outputs": [
    {
     "name": "stdout",
     "output_type": "stream",
     "text": [
      "[[993 575]\n",
      " [508 728]]\n",
      "              precision    recall  f1-score   support\n",
      "\n",
      "           0       0.66      0.63      0.65      1568\n",
      "           1       0.56      0.59      0.57      1236\n",
      "\n",
      "    accuracy                           0.61      2804\n",
      "   macro avg       0.61      0.61      0.61      2804\n",
      "weighted avg       0.62      0.61      0.61      2804\n",
      "\n"
     ]
    }
   ],
   "source": [
    "print(metrics.confusion_matrix(Y3_test, predicted3))\n",
    "print(metrics.classification_report(Y3_test, predicted3))"
   ]
  },
  {
   "cell_type": "markdown",
   "metadata": {},
   "source": [
    "From above, we can see that the accuracies of model1 and model2 are higher than model3, so model1 and model2 have a better predictive effect on the test data than model3. And for precision, recall and f1-score, model1 and model2 are close.For auc, model2 is higher than model1, so model 2 is the best model among the 3 models."
   ]
  },
  {
   "cell_type": "markdown",
   "metadata": {},
   "source": [
    "### Cross-Validation\n",
    "Now let's try 10-fold cross-validation, to see if the accuracy holds up more rigorously."
   ]
  },
  {
   "cell_type": "code",
   "execution_count": 168,
   "metadata": {},
   "outputs": [
    {
     "name": "stdout",
     "output_type": "stream",
     "text": [
      "[0.69964349 0.73885918 0.71900089 0.72167707 0.72613738 0.72167707\n",
      " 0.72524532 0.70651204 0.72256913 0.7279215 ]\n",
      "0.7209243084144695\n"
     ]
    }
   ],
   "source": [
    "# load the cross_val_score function from the sklearn.model_selection module\n",
    "from sklearn.model_selection import cross_val_score\n",
    "# evaluate the model using 10-fold cross-validation\n",
    "scores = cross_val_score(model2, X2_train, Y2_train, scoring='accuracy', cv=10)\n",
    "print(scores)\n",
    "print (scores.mean())"
   ]
  },
  {
   "cell_type": "markdown",
   "metadata": {},
   "source": [
    "Looks good. It's still performing at 71% accuracy."
   ]
  },
  {
   "cell_type": "markdown",
   "metadata": {},
   "source": [
    "### Apply Our Preferred Model to the Testing Subset"
   ]
  },
  {
   "cell_type": "code",
   "execution_count": 169,
   "metadata": {},
   "outputs": [
    {
     "data": {
      "text/plain": [
       "array([1, 1, 0, ..., 0, 1, 1], dtype=int64)"
      ]
     },
     "execution_count": 169,
     "metadata": {},
     "output_type": "execute_result"
    }
   ],
   "source": [
    "# predict class labels for the test set\n",
    "predicted2 = model2.predict(X2_test)\n",
    "predicted2"
   ]
  },
  {
   "cell_type": "code",
   "execution_count": 170,
   "metadata": {},
   "outputs": [
    {
     "data": {
      "text/plain": [
       "array([[0.32006788, 0.67993212],\n",
       "       [0.49954568, 0.50045432],\n",
       "       [0.62482541, 0.37517459],\n",
       "       ...,\n",
       "       [0.80670531, 0.19329469],\n",
       "       [0.2782174 , 0.7217826 ],\n",
       "       [0.48455773, 0.51544227]])"
      ]
     },
     "execution_count": 170,
     "metadata": {},
     "output_type": "execute_result"
    }
   ],
   "source": [
    "# generate class probabilities\n",
    "probs2 = model2.predict_proba(X2_test)\n",
    "probs2"
   ]
  },
  {
   "cell_type": "markdown",
   "metadata": {},
   "source": [
    "## Conclusions"
   ]
  },
  {
   "cell_type": "markdown",
   "metadata": {},
   "source": [
    "Although model 2 has the best predictive effect on the unseen data, but its accuracy is not very high, this indicates that we still have room for improving this model, for this assignment, mainly for data preparation and selection of independent variables."
   ]
  },
  {
   "cell_type": "code",
   "execution_count": null,
   "metadata": {},
   "outputs": [],
   "source": []
  }
 ],
 "metadata": {
  "kernelspec": {
   "display_name": "Python 3",
   "language": "python",
   "name": "python3"
  },
  "language_info": {
   "codemirror_mode": {
    "name": "ipython",
    "version": 3
   },
   "file_extension": ".py",
   "mimetype": "text/x-python",
   "name": "python",
   "nbconvert_exporter": "python",
   "pygments_lexer": "ipython3",
   "version": "3.8.5"
  }
 },
 "nbformat": 4,
 "nbformat_minor": 4
}
