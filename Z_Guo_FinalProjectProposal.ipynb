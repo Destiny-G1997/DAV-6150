{
 "cells": [
  {
   "cell_type": "markdown",
   "metadata": {},
   "source": [
    "# Final Project Proposal"
   ]
  },
  {
   "cell_type": "markdown",
   "metadata": {},
   "source": [
    "**Group Members: Yifeng Lin, Yuan Zheng and Ziyang Guo**"
   ]
  },
  {
   "cell_type": "markdown",
   "metadata": {},
   "source": [
    "## Introduction:  \n"
   ]
  },
  {
   "cell_type": "markdown",
   "metadata": {},
   "source": [
    "Cardiovascular diseases (CVDs) are the top 1 cause of death globally. There are about 659,000 people in the United States who die from cardiovascular disease each year. So, we want to find data that can create a model to predict cardiovascular diseases based on various other symptoms and biological info. \n",
    "\n",
    "People with cardiovascular disease or who are at high cardiovascular risk (due to the presence of one or more risk factors such as hypertension, diabetes, hyperlipidemia, or already established disease) need early detection and management wherein a machine learning model can be of great help."
   ]
  },
  {
   "cell_type": "markdown",
   "metadata": {},
   "source": [
    "## Research Questions:"
   ]
  },
  {
   "cell_type": "markdown",
   "metadata": {},
   "source": [
    "1. What biological information can help us predict whether we have cardiovascular disease or not? \n",
    "\n",
    "2. Will the possibility of having a cardiovascular disease grow as our age grows?"
   ]
  },
  {
   "cell_type": "markdown",
   "metadata": {},
   "source": [
    "## Data to be Used"
   ]
  },
  {
   "cell_type": "markdown",
   "metadata": {},
   "source": [
    "Heart Failure Prediction Dataset: \n",
    "\n",
    "https://www.kaggle.com/fedesoriano/heart-failure-prediction\n",
    "\n",
    "The data we are going to download in CSV format will as our research data."
   ]
  },
  {
   "cell_type": "markdown",
   "metadata": {},
   "source": [
    "## Approach:"
   ]
  },
  {
   "cell_type": "markdown",
   "metadata": {},
   "source": [
    "First, we will upload our data to Github. The statistical analysis we will apply to answer our research question is the nonparametric statistical method, and logistic regression analysis, ROC, AUC, accuracy, precision, recall, f1-score, and so on. And we will use bar plots, boxplots, and histograms, and so on to finish Exploratory Data Analysis. Based on the result of EDA, we may apply the box cox function to finish normalization, if there are any missing values, we will apply the KNN method to fill them. After data preparation, we will base on our domain knowledge to finish feature selection. Then we will apply the binary logistic regression model, random forest model, and XGboost model to explanatory attributes that we selected and select the best model by using AUC, accuracy, precision, recall, f1-score, etc. Then we will apply the stacking method to construct an ensemble model. Finally, we compare the ensemble model with the best model we selected before and answer our research questions with the result."
   ]
  }
 ],
 "metadata": {
  "kernelspec": {
   "display_name": "Python 3",
   "language": "python",
   "name": "python3"
  },
  "language_info": {
   "codemirror_mode": {
    "name": "ipython",
    "version": 3
   },
   "file_extension": ".py",
   "mimetype": "text/x-python",
   "name": "python",
   "nbconvert_exporter": "python",
   "pygments_lexer": "ipython3",
   "version": "3.8.5"
  }
 },
 "nbformat": 4,
 "nbformat_minor": 4
}
